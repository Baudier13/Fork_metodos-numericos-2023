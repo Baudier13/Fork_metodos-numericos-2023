{
  "cells": [
    {
      "cell_type": "markdown",
      "metadata": {
        "id": "view-in-github",
        "colab_type": "text"
      },
      "source": [
        "<a href=\"https://colab.research.google.com/github/Baudier13/Fork_metodos-numericos-2023/blob/main/guias/py_guia-3-2023-Copy1.ipynb\" target=\"_parent\"><img src=\"https://colab.research.google.com/assets/colab-badge.svg\" alt=\"Open In Colab\"/></a>"
      ]
    },
    {
      "cell_type": "markdown",
      "metadata": {
        "id": "tHabSkUh7Xyz"
      },
      "source": [
        "# Métodos Numéricos \n",
        "\n",
        "## Guía 3: Interpolación y aproximación polinomial (Abril 2023)"
      ]
    },
    {
      "cell_type": "code",
      "execution_count": null,
      "metadata": {
        "id": "e-H409pg7Xy0"
      },
      "outputs": [],
      "source": [
        "using Plots\n",
        "using LaTeXStrings"
      ]
    },
    {
      "cell_type": "markdown",
      "metadata": {
        "tags": [],
        "id": "ei_j8vTp7Xy2"
      },
      "source": [
        "### Problema 1\n",
        "\n",
        "1. Usando los puntos interpolantes $x_0 = 0$, $x_1=0.6$ y $x_2=0.9$, construya analíticamente los polinomios interpolantes de Lagrange de grado 1 y 2 que aproximen las funciones\n",
        "  \n",
        "    **a.** $f(x) = \\ln (x+1)$ y \n",
        "    \n",
        "    **b.** $g(x) = \\sqrt{x+1}$ \n",
        "    \n",
        "    en $x=0.45$.\n",
        "\n",
        "2. Encuentre los errores absolutos y relativos correspondientes.\n",
        "\n",
        "3. En el rango dado $[x_0,x_2]$, grafique ambas funciones, sus polinomios interpolantes y correspondientes aproximaciones de Taylor de grado 2 entorno a $x_0$. Agregue al gráfico los puntos interpolantes $(x_i,f(x_i))$ (o $(x_i,g(x_i))$ según corresponda) usando símbolos en vez de curvas."
      ]
    },
    {
      "cell_type": "code",
      "execution_count": null,
      "metadata": {
        "id": "EG6tt9Hg7Xy3",
        "outputId": "efcbc3a7-94e5-4edd-a47a-a3774b837d3b"
      },
      "outputs": [
        {
          "data": {
            "text/plain": [
              "0.9"
            ]
          },
          "execution_count": 3,
          "metadata": {},
          "output_type": "execute_result"
        }
      ],
      "source": [
        "f(x) = log(x+1)\n",
        "g(x) = sqrt(x+1)\n",
        "x0 = 0\n",
        "x1 = 0.6\n",
        "x2 = 0.9"
      ]
    },
    {
      "cell_type": "code",
      "execution_count": null,
      "metadata": {
        "id": "w1mliY1i7Xy5",
        "outputId": "61858978-dbd7-4a40-829c-cf8aaf4e5bd8"
      },
      "outputs": [
        {
          "data": {
            "text/plain": [
              "l2 (generic function with 1 method)"
            ]
          },
          "execution_count": 8,
          "metadata": {},
          "output_type": "execute_result"
        }
      ],
      "source": [
        "#lagrange grado1\n",
        "l0(x) = ((x-x1)/(x0-x1))*((x-x2)/(x0-x2))\n",
        "l1(x) = ((x-x0)/(x1-x0))*((x-x2)/(x1-x2))\n",
        "l2(x) = ((x-x0)/(x2-x0))*((x-x1)/(x2-x1))"
      ]
    },
    {
      "cell_type": "code",
      "execution_count": null,
      "metadata": {
        "id": "Sq4mfXHJ7Xy6",
        "outputId": "b9eda638-308a-4049-f76d-1442ba1bd169"
      },
      "outputs": [
        {
          "data": {
            "image/svg+xml": [
              "<?xml version=\"1.0\" encoding=\"utf-8\"?>\n",
              "<svg xmlns=\"http://www.w3.org/2000/svg\" xmlns:xlink=\"http://www.w3.org/1999/xlink\" width=\"600\" height=\"400\" viewBox=\"0 0 2400 1600\">\n",
              "<defs>\n",
              "  <clipPath id=\"clip290\">\n",
              "    <rect x=\"0\" y=\"0\" width=\"2400\" height=\"1600\"/>\n",
              "  </clipPath>\n",
              "</defs>\n",
              "<path clip-path=\"url(#clip290)\" d=\"M0 1600 L2400 1600 L2400 0 L0 0  Z\" fill=\"#ffffff\" fill-rule=\"evenodd\" fill-opacity=\"1\"/>\n",
              "<defs>\n",
              "  <clipPath id=\"clip291\">\n",
              "    <rect x=\"480\" y=\"0\" width=\"1681\" height=\"1600\"/>\n",
              "  </clipPath>\n",
              "</defs>\n",
              "<path clip-path=\"url(#clip290)\" d=\"M86.9921 1521.01 L2352.76 1521.01 L2352.76 47.2441 L86.9921 47.2441  Z\" fill=\"#ffffff\" fill-rule=\"evenodd\" fill-opacity=\"1\"/>\n",
              "<defs>\n",
              "  <clipPath id=\"clip292\">\n",
              "    <rect x=\"86\" y=\"47\" width=\"2267\" height=\"1475\"/>\n",
              "  </clipPath>\n",
              "</defs>\n",
              "<polyline clip-path=\"url(#clip292)\" style=\"stroke:#000000; stroke-linecap:round; stroke-linejoin:round; stroke-width:2; stroke-opacity:0.1; fill:none\" points=\"151.118,1521.01 151.118,47.2441 \"/>\n",
              "<polyline clip-path=\"url(#clip292)\" style=\"stroke:#000000; stroke-linecap:round; stroke-linejoin:round; stroke-width:2; stroke-opacity:0.1; fill:none\" points=\"507.37,1521.01 507.37,47.2441 \"/>\n",
              "<polyline clip-path=\"url(#clip292)\" style=\"stroke:#000000; stroke-linecap:round; stroke-linejoin:round; stroke-width:2; stroke-opacity:0.1; fill:none\" points=\"863.622,1521.01 863.622,47.2441 \"/>\n",
              "<polyline clip-path=\"url(#clip292)\" style=\"stroke:#000000; stroke-linecap:round; stroke-linejoin:round; stroke-width:2; stroke-opacity:0.1; fill:none\" points=\"1219.87,1521.01 1219.87,47.2441 \"/>\n",
              "<polyline clip-path=\"url(#clip292)\" style=\"stroke:#000000; stroke-linecap:round; stroke-linejoin:round; stroke-width:2; stroke-opacity:0.1; fill:none\" points=\"1576.13,1521.01 1576.13,47.2441 \"/>\n",
              "<polyline clip-path=\"url(#clip292)\" style=\"stroke:#000000; stroke-linecap:round; stroke-linejoin:round; stroke-width:2; stroke-opacity:0.1; fill:none\" points=\"1932.38,1521.01 1932.38,47.2441 \"/>\n",
              "<polyline clip-path=\"url(#clip292)\" style=\"stroke:#000000; stroke-linecap:round; stroke-linejoin:round; stroke-width:2; stroke-opacity:0.1; fill:none\" points=\"2288.63,1521.01 2288.63,47.2441 \"/>\n",
              "<polyline clip-path=\"url(#clip290)\" style=\"stroke:#000000; stroke-linecap:round; stroke-linejoin:round; stroke-width:4; stroke-opacity:1; fill:none\" points=\"86.9921,1521.01 2352.76,1521.01 \"/>\n",
              "<polyline clip-path=\"url(#clip290)\" style=\"stroke:#000000; stroke-linecap:round; stroke-linejoin:round; stroke-width:4; stroke-opacity:1; fill:none\" points=\"151.118,1521.01 151.118,1502.11 \"/>\n",
              "<polyline clip-path=\"url(#clip290)\" style=\"stroke:#000000; stroke-linecap:round; stroke-linejoin:round; stroke-width:4; stroke-opacity:1; fill:none\" points=\"507.37,1521.01 507.37,1502.11 \"/>\n",
              "<polyline clip-path=\"url(#clip290)\" style=\"stroke:#000000; stroke-linecap:round; stroke-linejoin:round; stroke-width:4; stroke-opacity:1; fill:none\" points=\"863.622,1521.01 863.622,1502.11 \"/>\n",
              "<polyline clip-path=\"url(#clip290)\" style=\"stroke:#000000; stroke-linecap:round; stroke-linejoin:round; stroke-width:4; stroke-opacity:1; fill:none\" points=\"1219.87,1521.01 1219.87,1502.11 \"/>\n",
              "<polyline clip-path=\"url(#clip290)\" style=\"stroke:#000000; stroke-linecap:round; stroke-linejoin:round; stroke-width:4; stroke-opacity:1; fill:none\" points=\"1576.13,1521.01 1576.13,1502.11 \"/>\n",
              "<polyline clip-path=\"url(#clip290)\" style=\"stroke:#000000; stroke-linecap:round; stroke-linejoin:round; stroke-width:4; stroke-opacity:1; fill:none\" points=\"1932.38,1521.01 1932.38,1502.11 \"/>\n",
              "<polyline clip-path=\"url(#clip290)\" style=\"stroke:#000000; stroke-linecap:round; stroke-linejoin:round; stroke-width:4; stroke-opacity:1; fill:none\" points=\"2288.63,1521.01 2288.63,1502.11 \"/>\n",
              "<path clip-path=\"url(#clip290)\" d=\"M-nan -nan L-nan -nan L-nan -nan L-nan -nan L-nan -nan Z\" fill=\"#000000\" fill-rule=\"nonzero\" fill-opacity=\"1\" /><path clip-path=\"url(#clip290)\" d=\"M-nan -nan L-nan -nan L-nan -nan L-nan -nan L-nan -nan L-nan -nan L-nan -nan L-nan -nan L-nan -nan L-nan -nan L-nan -nan L-nan -nan Z\" fill=\"#000000\" fill-rule=\"nonzero\" fill-opacity=\"1\" /><path clip-path=\"url(#clip290)\" d=\"M-nan -nan Q-nan -nan -nan -nan Q-nan -nan -nan -nan Q-nan -nan -nan -nan Q-nan -nan -nan -nan Q-nan -nan -nan -nan Q-nan -nan -nan -nan Q-nan -nan -nan -nan Q-nan -nan -nan -nan M-nan -nan Q-nan -nan -nan -nan Q-nan -nan -nan -nan Q-nan -nan -nan -nan Q-nan -nan -nan -nan Q-nan -nan -nan -nan Q-nan -nan -nan -nan Q-nan -nan -nan -nan Q-nan -nan -nan -nan Z\" fill=\"#000000\" fill-rule=\"nonzero\" fill-opacity=\"1\" /><path clip-path=\"url(#clip290)\" d=\"M-nan -nan L-nan -nan L-nan -nan L-nan -nan L-nan -nan L-nan -nan L-nan -nan L-nan -nan L-nan -nan L-nan -nan L-nan -nan L-nan -nan Z\" fill=\"#000000\" fill-rule=\"nonzero\" fill-opacity=\"1\" /><path clip-path=\"url(#clip290)\" d=\"M-nan -nan L-nan -nan L-nan -nan L-nan -nan L-nan -nan Q-nan -nan -nan -nan Q-nan -nan -nan -nan Q-nan -nan -nan -nan Q-nan -nan -nan -nan Q-nan -nan -nan -nan Q-nan -nan -nan -nan Q-nan -nan -nan -nan Q-nan -nan -nan -nan L-nan -nan Q-nan -nan -nan -nan Q-nan -nan -nan -nan Q-nan -nan -nan -nan Q-nan -nan -nan -nan Q-nan -nan -nan -nan Q-nan -nan -nan -nan Q-nan -nan -nan -nan Q-nan -nan -nan -nan Z\" fill=\"#000000\" fill-rule=\"nonzero\" fill-opacity=\"1\" /><path clip-path=\"url(#clip290)\" d=\"M-nan -nan Q-nan -nan -nan -nan Q-nan -nan -nan -nan Q-nan -nan -nan -nan Q-nan -nan -nan -nan Q-nan -nan -nan -nan Q-nan -nan -nan -nan L-nan -nan Q-nan -nan -nan -nan Q-nan -nan -nan -nan Q-nan -nan -nan -nan Q-nan -nan -nan -nan Q-nan -nan -nan -nan Q-nan -nan -nan -nan L-nan -nan L-nan -nan L-nan -nan Q-nan -nan -nan -nan Q-nan -nan -nan -nan Q-nan -nan -nan -nan Q-nan -nan -nan -nan Q-nan -nan -nan -nan Q-nan -nan -nan -nan L-nan -nan Q-nan -nan -nan -nan Q-nan -nan -nan -nan Q-nan -nan -nan -nan Q-nan -nan -nan -nan Q-nan -nan -nan -nan Q-nan -nan -nan -nan Z\" fill=\"#000000\" fill-rule=\"nonzero\" fill-opacity=\"1\" /><path clip-path=\"url(#clip290)\" d=\"M-nan -nan L-nan -nan L-nan -nan L-nan -nan M-nan -nan L-nan -nan L-nan -nan L-nan -nan L-nan -nan L-nan -nan L-nan -nan L-nan -nan L-nan -nan L-nan -nan L-nan -nan L-nan -nan Z\" fill=\"#000000\" fill-rule=\"nonzero\" fill-opacity=\"1\" /><path clip-path=\"url(#clip290)\" d=\"M-nan -nan L-nan -nan L-nan -nan L-nan -nan L-nan -nan Q-nan -nan -nan -nan Q-nan -nan -nan -nan Q-nan -nan -nan -nan Q-nan -nan -nan -nan Q-nan -nan -nan -nan Q-nan -nan -nan -nan Q-nan -nan -nan -nan Q-nan -nan -nan -nan L-nan -nan Q-nan -nan -nan -nan Q-nan -nan -nan -nan Q-nan -nan -nan -nan Q-nan -nan -nan -nan Q-nan -nan -nan -nan Q-nan -nan -nan -nan Q-nan -nan -nan -nan Q-nan -nan -nan -nan L-nan -nan Z\" fill=\"#000000\" fill-rule=\"nonzero\" fill-opacity=\"1\" /><polyline clip-path=\"url(#clip292)\" style=\"stroke:#000000; stroke-linecap:round; stroke-linejoin:round; stroke-width:2; stroke-opacity:0.1; fill:none\" points=\"86.9921,1390.62 2352.76,1390.62 \"/>\n",
              "<polyline clip-path=\"url(#clip292)\" style=\"stroke:#000000; stroke-linecap:round; stroke-linejoin:round; stroke-width:2; stroke-opacity:0.1; fill:none\" points=\"86.9921,1139.3 2352.76,1139.3 \"/>\n",
              "<polyline clip-path=\"url(#clip292)\" style=\"stroke:#000000; stroke-linecap:round; stroke-linejoin:round; stroke-width:2; stroke-opacity:0.1; fill:none\" points=\"86.9921,887.969 2352.76,887.969 \"/>\n",
              "<polyline clip-path=\"url(#clip292)\" style=\"stroke:#000000; stroke-linecap:round; stroke-linejoin:round; stroke-width:2; stroke-opacity:0.1; fill:none\" points=\"86.9921,636.642 2352.76,636.642 \"/>\n",
              "<polyline clip-path=\"url(#clip292)\" style=\"stroke:#000000; stroke-linecap:round; stroke-linejoin:round; stroke-width:2; stroke-opacity:0.1; fill:none\" points=\"86.9921,385.314 2352.76,385.314 \"/>\n",
              "<polyline clip-path=\"url(#clip292)\" style=\"stroke:#000000; stroke-linecap:round; stroke-linejoin:round; stroke-width:2; stroke-opacity:0.1; fill:none\" points=\"86.9921,133.986 2352.76,133.986 \"/>\n",
              "<polyline clip-path=\"url(#clip290)\" style=\"stroke:#000000; stroke-linecap:round; stroke-linejoin:round; stroke-width:4; stroke-opacity:1; fill:none\" points=\"86.9921,1521.01 86.9921,47.2441 \"/>\n",
              "<polyline clip-path=\"url(#clip290)\" style=\"stroke:#000000; stroke-linecap:round; stroke-linejoin:round; stroke-width:4; stroke-opacity:1; fill:none\" points=\"86.9921,1390.62 105.89,1390.62 \"/>\n",
              "<polyline clip-path=\"url(#clip290)\" style=\"stroke:#000000; stroke-linecap:round; stroke-linejoin:round; stroke-width:4; stroke-opacity:1; fill:none\" points=\"86.9921,1139.3 105.89,1139.3 \"/>\n",
              "<polyline clip-path=\"url(#clip290)\" style=\"stroke:#000000; stroke-linecap:round; stroke-linejoin:round; stroke-width:4; stroke-opacity:1; fill:none\" points=\"86.9921,887.969 105.89,887.969 \"/>\n",
              "<polyline clip-path=\"url(#clip290)\" style=\"stroke:#000000; stroke-linecap:round; stroke-linejoin:round; stroke-width:4; stroke-opacity:1; fill:none\" points=\"86.9921,636.642 105.89,636.642 \"/>\n",
              "<polyline clip-path=\"url(#clip290)\" style=\"stroke:#000000; stroke-linecap:round; stroke-linejoin:round; stroke-width:4; stroke-opacity:1; fill:none\" points=\"86.9921,385.314 105.89,385.314 \"/>\n",
              "<polyline clip-path=\"url(#clip290)\" style=\"stroke:#000000; stroke-linecap:round; stroke-linejoin:round; stroke-width:4; stroke-opacity:1; fill:none\" points=\"86.9921,133.986 105.89,133.986 \"/>\n",
              "<path clip-path=\"url(#clip290)\" d=\"M-nan -nan L-nan -nan L-nan -nan L-nan -nan L-nan -nan Z\" fill=\"#000000\" fill-rule=\"nonzero\" fill-opacity=\"1\" /><path clip-path=\"url(#clip290)\" d=\"M-nan -nan L-nan -nan L-nan -nan L-nan -nan L-nan -nan Q-nan -nan -nan -nan Q-nan -nan -nan -nan Q-nan -nan -nan -nan Q-nan -nan -nan -nan Q-nan -nan -nan -nan Q-nan -nan -nan -nan Q-nan -nan -nan -nan Q-nan -nan -nan -nan L-nan -nan Q-nan -nan -nan -nan Q-nan -nan -nan -nan Q-nan -nan -nan -nan Q-nan -nan -nan -nan Q-nan -nan -nan -nan Q-nan -nan -nan -nan Q-nan -nan -nan -nan Q-nan -nan -nan -nan L-nan -nan Z\" fill=\"#000000\" fill-rule=\"nonzero\" fill-opacity=\"1\" /><path clip-path=\"url(#clip290)\" d=\"M-nan -nan Q-nan -nan -nan -nan Q-nan -nan -nan -nan Q-nan -nan -nan -nan Q-nan -nan -nan -nan Q-nan -nan -nan -nan Q-nan -nan -nan -nan Q-nan -nan -nan -nan Q-nan -nan -nan -nan M-nan -nan Q-nan -nan -nan -nan Q-nan -nan -nan -nan Q-nan -nan -nan -nan Q-nan -nan -nan -nan Q-nan -nan -nan -nan Q-nan -nan -nan -nan Q-nan -nan -nan -nan Q-nan -nan -nan -nan Z\" fill=\"#000000\" fill-rule=\"nonzero\" fill-opacity=\"1\" /><path clip-path=\"url(#clip290)\" d=\"M-nan -nan L-nan -nan L-nan -nan L-nan -nan L-nan -nan Z\" fill=\"#000000\" fill-rule=\"nonzero\" fill-opacity=\"1\" /><path clip-path=\"url(#clip290)\" d=\"M-nan -nan L-nan -nan L-nan -nan L-nan -nan M-nan -nan L-nan -nan L-nan -nan L-nan -nan L-nan -nan L-nan -nan L-nan -nan L-nan -nan L-nan -nan L-nan -nan L-nan -nan L-nan -nan Z\" fill=\"#000000\" fill-rule=\"nonzero\" fill-opacity=\"1\" /><path clip-path=\"url(#clip290)\" d=\"M-nan -nan Q-nan -nan -nan -nan Q-nan -nan -nan -nan Q-nan -nan -nan -nan Q-nan -nan -nan -nan Q-nan -nan -nan -nan Q-nan -nan -nan -nan Q-nan -nan -nan -nan Q-nan -nan -nan -nan M-nan -nan Q-nan -nan -nan -nan Q-nan -nan -nan -nan Q-nan -nan -nan -nan Q-nan -nan -nan -nan Q-nan -nan -nan -nan Q-nan -nan -nan -nan Q-nan -nan -nan -nan Q-nan -nan -nan -nan Z\" fill=\"#000000\" fill-rule=\"nonzero\" fill-opacity=\"1\" /><path clip-path=\"url(#clip290)\" d=\"M-nan -nan L-nan -nan L-nan -nan L-nan -nan L-nan -nan Z\" fill=\"#000000\" fill-rule=\"nonzero\" fill-opacity=\"1\" /><path clip-path=\"url(#clip290)\" d=\"M-nan -nan Q-nan -nan -nan -nan Q-nan -nan -nan -nan Q-nan -nan -nan -nan Q-nan -nan -nan -nan Q-nan -nan -nan -nan Q-nan -nan -nan -nan L-nan -nan Q-nan -nan -nan -nan Q-nan -nan -nan -nan Q-nan -nan -nan -nan Q-nan -nan -nan -nan Q-nan -nan -nan -nan Q-nan -nan -nan -nan L-nan -nan L-nan -nan L-nan -nan Q-nan -nan -nan -nan Q-nan -nan -nan -nan Q-nan -nan -nan -nan Q-nan -nan -nan -nan Q-nan -nan -nan -nan Q-nan -nan -nan -nan L-nan -nan Q-nan -nan -nan -nan Q-nan -nan -nan -nan Q-nan -nan -nan -nan Q-nan -nan -nan -nan Q-nan -nan -nan -nan Q-nan -nan -nan -nan Z\" fill=\"#000000\" fill-rule=\"nonzero\" fill-opacity=\"1\" /><path clip-path=\"url(#clip290)\" d=\"M-nan -nan Q-nan -nan -nan -nan Q-nan -nan -nan -nan Q-nan -nan -nan -nan Q-nan -nan -nan -nan Q-nan -nan -nan -nan Q-nan -nan -nan -nan Q-nan -nan -nan -nan Q-nan -nan -nan -nan M-nan -nan Q-nan -nan -nan -nan Q-nan -nan -nan -nan Q-nan -nan -nan -nan Q-nan -nan -nan -nan Q-nan -nan -nan -nan Q-nan -nan -nan -nan Q-nan -nan -nan -nan Q-nan -nan -nan -nan Z\" fill=\"#000000\" fill-rule=\"nonzero\" fill-opacity=\"1\" /><path clip-path=\"url(#clip290)\" d=\"M-nan -nan L-nan -nan L-nan -nan L-nan -nan L-nan -nan Z\" fill=\"#000000\" fill-rule=\"nonzero\" fill-opacity=\"1\" /><path clip-path=\"url(#clip290)\" d=\"M-nan -nan L-nan -nan L-nan -nan L-nan -nan L-nan -nan Q-nan -nan -nan -nan Q-nan -nan -nan -nan Q-nan -nan -nan -nan Q-nan -nan -nan -nan Q-nan -nan -nan -nan Q-nan -nan -nan -nan Q-nan -nan -nan -nan Q-nan -nan -nan -nan L-nan -nan Q-nan -nan -nan -nan Q-nan -nan -nan -nan Q-nan -nan -nan -nan Q-nan -nan -nan -nan Q-nan -nan -nan -nan Q-nan -nan -nan -nan Q-nan -nan -nan -nan Q-nan -nan -nan -nan Z\" fill=\"#000000\" fill-rule=\"nonzero\" fill-opacity=\"1\" /><path clip-path=\"url(#clip290)\" d=\"M-nan -nan Q-nan -nan -nan -nan Q-nan -nan -nan -nan Q-nan -nan -nan -nan Q-nan -nan -nan -nan Q-nan -nan -nan -nan Q-nan -nan -nan -nan Q-nan -nan -nan -nan Q-nan -nan -nan -nan M-nan -nan Q-nan -nan -nan -nan Q-nan -nan -nan -nan Q-nan -nan -nan -nan Q-nan -nan -nan -nan Q-nan -nan -nan -nan Q-nan -nan -nan -nan Q-nan -nan -nan -nan Q-nan -nan -nan -nan Z\" fill=\"#000000\" fill-rule=\"nonzero\" fill-opacity=\"1\" /><path clip-path=\"url(#clip290)\" d=\"M-nan -nan L-nan -nan L-nan -nan L-nan -nan L-nan -nan Z\" fill=\"#000000\" fill-rule=\"nonzero\" fill-opacity=\"1\" /><path clip-path=\"url(#clip290)\" d=\"M-nan -nan L-nan -nan L-nan -nan L-nan -nan L-nan -nan L-nan -nan L-nan -nan L-nan -nan L-nan -nan L-nan -nan L-nan -nan L-nan -nan Z\" fill=\"#000000\" fill-rule=\"nonzero\" fill-opacity=\"1\" /><path clip-path=\"url(#clip290)\" d=\"M-nan -nan Q-nan -nan -nan -nan Q-nan -nan -nan -nan Q-nan -nan -nan -nan Q-nan -nan -nan -nan Q-nan -nan -nan -nan Q-nan -nan -nan -nan Q-nan -nan -nan -nan Q-nan -nan -nan -nan M-nan -nan Q-nan -nan -nan -nan Q-nan -nan -nan -nan Q-nan -nan -nan -nan Q-nan -nan -nan -nan Q-nan -nan -nan -nan Q-nan -nan -nan -nan Q-nan -nan -nan -nan Q-nan -nan -nan -nan Z\" fill=\"#000000\" fill-rule=\"nonzero\" fill-opacity=\"1\" /><path clip-path=\"url(#clip290)\" d=\"M-nan -nan Q-nan -nan -nan -nan Q-nan -nan -nan -nan Q-nan -nan -nan -nan Q-nan -nan -nan -nan Q-nan -nan -nan -nan Q-nan -nan -nan -nan Q-nan -nan -nan -nan Q-nan -nan -nan -nan M-nan -nan Q-nan -nan -nan -nan Q-nan -nan -nan -nan Q-nan -nan -nan -nan Q-nan -nan -nan -nan Q-nan -nan -nan -nan Q-nan -nan -nan -nan Q-nan -nan -nan -nan Q-nan -nan -nan -nan Z\" fill=\"#000000\" fill-rule=\"nonzero\" fill-opacity=\"1\" /><polyline clip-path=\"url(#clip292)\" style=\"stroke:#009af9; stroke-linecap:round; stroke-linejoin:round; stroke-width:4; stroke-opacity:1; fill:none\" points=\"151.226,337.426 151.335,320.005 151.444,309.815 151.552,302.585 151.661,296.976 151.77,292.394 151.879,288.52 151.987,285.164 152.096,282.204 152.205,279.556 152.313,277.16 152.422,274.973 152.64,271.099 152.857,267.743 153.075,264.783 153.292,262.135 153.509,259.74 153.727,257.553 153.944,255.541 154.162,253.678 154.379,251.944 154.597,250.322 155.031,247.362 155.466,244.714 155.901,242.319 156.336,240.132 156.771,238.12 157.206,236.258 157.641,234.524 158.076,232.902 158.945,229.942 159.815,227.294 160.685,224.898 161.555,222.711 162.425,220.7 163.294,218.837 163.729,217.955 164.164,217.103 164.599,216.279 165.034,215.481 167.044,212.089 169.055,209.102 171.066,206.432 173.076,204.018 175.087,201.816 177.097,199.792 179.108,197.918 181.119,196.175 185.14,193.014 189.161,190.206 193.182,187.681 197.203,185.386 201.224,183.284 205.245,181.344 209.267,179.543 213.288,177.862 221.33,174.805 229.372,172.079 237.415,169.621 245.457,167.381 253.499,165.325 261.542,163.425 277.626,160.007 293.711,156.999 303.377,155.35 313.043,153.803 322.709,152.346 332.376,150.969 351.708,148.422 371.04,146.109 387.386,144.308 403.731,142.626 420.076,141.051 436.422,139.568 471.933,136.62 507.444,133.981 540.182,131.772 572.92,129.741 608.019,127.733 643.117,125.872 683.783,123.876 724.448,122.027 796.725,119.044 860.105,116.69 929.207,114.352 998.719,112.202 1075.57,110.02 1148.7,108.107 1224.73,106.261 1288.74,104.806 1366.88,103.136 1438.46,101.698 1504.57,100.44 1571.54,99.2258 1646.6,97.9317 1714.61,96.814 1792.48,95.5924 1864.58,94.512 1935.66,93.4904 2004.67,92.5368 2075.42,91.5954 2152.93,90.6028 2265.53,89.2275 2288.63,88.9544 \"/>\n",
              "<polyline clip-path=\"url(#clip292)\" style=\"stroke:#e26f46; stroke-linecap:round; stroke-linejoin:round; stroke-width:4; stroke-opacity:1; fill:none\" points=\"151.118,258.674 158.076,254.982 165.034,251.34 229.372,220.036 293.711,193.013 332.376,178.833 371.04,166.198 403.731,156.722 436.422,148.351 471.933,140.511 507.444,133.974 540.182,129.103 572.92,125.341 608.019,122.538 643.117,121.009 683.783,120.831 724.448,122.363 760.586,125.16 796.725,129.307 828.415,134.056 860.105,139.843 894.656,147.335 929.207,156.062 963.963,166.087 998.719,177.361 1037.15,191.28 1075.57,206.726 1112.14,222.84 1148.7,240.337 1186.72,259.995 1224.73,281.148 1256.74,300.113 1288.74,320.137 1327.81,346.02 1366.88,373.482 1402.67,400.024 1438.46,427.891 1471.52,454.805 1504.57,482.849 1538.06,512.409 1571.54,543.129 1609.07,578.934 1646.6,616.196 1680.6,651.22 1714.61,687.439 1753.54,730.376 1792.48,774.88 1828.53,817.485 1864.58,861.434 1900.12,906.078 1935.66,952.028 1970.16,997.892 2004.67,1044.99 2040.04,1094.54 2075.42,1145.39 2114.17,1202.59 2152.93,1261.34 2209.23,1349.46 2265.53,1440.85 2277.08,1460.01 2288.63,1479.3 \"/>\n",
              "<polyline clip-path=\"url(#clip292)\" style=\"stroke:#3da44d; stroke-linecap:round; stroke-linejoin:round; stroke-width:4; stroke-opacity:1; fill:none\" points=\"151.118,163.079 154.597,162.738 158.076,162.398 161.555,162.06 165.034,161.722 197.203,158.654 229.372,155.681 261.542,152.804 293.711,150.023 332.376,146.808 371.04,143.731 403.731,141.237 436.422,138.843 471.933,136.354 507.444,133.981 540.182,131.898 572.92,129.914 608.019,127.897 643.117,125.994 663.45,124.944 683.783,123.932 704.115,122.959 724.448,122.023 760.586,120.456 796.725,119.009 828.415,117.84 860.105,116.764 894.656,115.697 929.207,114.74 963.963,113.889 998.719,113.151 1037.15,112.464 1075.57,111.914 1112.14,111.518 1148.7,111.246 1186.72,111.094 1224.73,111.076 1256.74,111.165 1288.74,111.348 1327.81,111.701 1366.88,112.195 1402.67,112.772 1438.46,113.467 1471.52,114.215 1504.57,115.064 1538.06,116.027 1571.54,117.094 1609.07,118.414 1646.6,119.863 1680.6,121.29 1714.61,122.823 1753.54,124.71 1792.48,126.738 1828.53,128.741 1864.58,130.864 1900.12,133.075 1935.66,135.402 1970.16,137.775 2004.67,140.257 2040.04,142.916 2075.42,145.692 2094.8,147.261 2114.17,148.865 2133.55,150.504 2152.93,152.178 2181.08,154.672 2209.23,157.238 2237.38,159.879 2265.53,162.592 2271.31,163.158 2277.08,163.727 2282.86,164.299 2288.63,164.874 \"/>\n",
              "</svg>\n"
            ]
          },
          "execution_count": 48,
          "metadata": {},
          "output_type": "execute_result"
        }
      ],
      "source": [
        "#polinomios de lagrange orden1\n",
        "pl1f(x) = @. f(x0)*l0(x) + f(x1)*l1(x) #+ f(x2)*l2\n",
        "pl1g(x) = @. g(x0)*l0(x) + g(x1)*l1(x) #+ g(x2)*l2\n",
        "#polinomios de lagrange orden2\n",
        "pl2f(x) = @. f(x0)*l0(x) + f(x1)*l1(x) + f(x2)*l2(x)\n",
        "pl2g(x) = @. g(x0)*l0(x) + g(x1)*l1(x) + g(x2)*l2(x)\n",
        "\n",
        "x = 0:1:100\n",
        "\n",
        "plot(f)\n",
        "plot!(pl1f)\n",
        "plot!(pl2f)"
      ]
    },
    {
      "cell_type": "markdown",
      "metadata": {
        "id": "LE_heVWX7Xy6"
      },
      "source": [
        "### Problema 2\n",
        "\n",
        "1. Escriba una función que evalúe el **polinomio interpolante de Lagrange** $P$ en un punto $x$ con $x_0 < x < x_n$ siendo $(x_i,y_i)$ para $i=0,...,n$ los puntos a interpolar. La función debe tomar como argumentos de entrada: **i)** el valor $x$, **ii)** un arreglo $v$ de valores $x_i$ y **iii)** un arreglo $w$ de valores $y_i$, y debe retornal el valor $P(x)$.\n",
        "\n",
        "2. Para cada función del **Problema 1**, realice un gráfico de $P$ sobre $N=200$ puntos equidistantes en el intérvalo $[x_0,x_n]$ interpolando los puntos $(x_i,y_i) = (x_i,f(x_i))$ para $i=0,1,2$. Incluya en curvas punteadas la función y en símbolos para los puntos interpolantes. **Ayuda:** no confundir los $N$ puntos usados para graficar, con los $n$ puntos interpolación.\n",
        "\n",
        "3. Gráfique la diferencia entre los polinomios y las funciones."
      ]
    },
    {
      "cell_type": "code",
      "execution_count": null,
      "metadata": {
        "id": "xySDUYyE7Xy7"
      },
      "outputs": [],
      "source": []
    },
    {
      "cell_type": "markdown",
      "metadata": {
        "id": "8R0n_lsN7Xy7"
      },
      "source": [
        "### Problema 3\n",
        "\n",
        "Se desea aproximar $\\cos(x)$ en el intervalo $[0,1]$ con un error absoluto menor a $1\\times 10^{-7}$ para todo $x \\in [0,1]$. \n",
        "\n",
        "1. Usando el teorema del error de la interpolación polinomial, estime el número de puntos de interpolación que son necesarios para conseguir el máximo error absoluto mencionado.\n",
        "\n",
        "2. Grafique el error absoluto en el intervalo en cuestión para tres casos particulares de $\\{x_i\\}$: *i)* puntos equidistantes $x_i=i/n$, **ii)** puntos al azar y **iii)** puntos distribuidos heterogéneamente $x_i=1/i$."
      ]
    },
    {
      "cell_type": "code",
      "execution_count": null,
      "metadata": {
        "id": "-HszXUao7Xy8"
      },
      "outputs": [],
      "source": []
    },
    {
      "cell_type": "markdown",
      "metadata": {
        "id": "n4vSExL_7Xy8"
      },
      "source": [
        "### Problema 4\n",
        "\n",
        "Construya analíticamente el polinomio interpolante de Newton para las siguientes funciones. \n",
        "De una cota del error absoluto en el intervalo $[x_0,x_n]$.\n",
        "\n",
        "**a.** $f(x) = \\exp (2x) \\cos(3x)$ para $x_0=0$, $x_1=0.3$ y $x_2=0.6$.\n",
        "\n",
        "**b.** $g(x) = \\ln(x)$ para $x_0=1$, $x_1=1.1$, $x_2=1.3$ y $x_3=1.4$."
      ]
    },
    {
      "cell_type": "markdown",
      "metadata": {
        "id": "h4V7ovox7Xy9"
      },
      "source": [
        "**Teoría**\n",
        "\n",
        "La forma del polinomio interpolante de Newton es:\n",
        "$$\n",
        "P(x)\n",
        "=\n",
        "f_0+\n",
        "f_{0,1}(x-x_0)+\n",
        "f_{0,1,2}(x-x_0)(x-x_1)+\n",
        "...\n",
        "f_{0,1,2,...,n}(x-x_0)(x-x_1)...(x-x_{n-1})\n",
        "$$\n",
        "donde\n",
        "$$\n",
        "f_i=f(x_i),\n",
        "$$\n",
        "$$\n",
        "f_{ij}=\\frac{f_i-f_j}{x_i-x_j},\n",
        "$$\n",
        "y\n",
        "$$\n",
        "f_{i,i+1,...,j-1,j}=\\frac{f_{i,i+1,...,j-1}-f_{i+1,...,j-1,j}}{x_i-x_j}\n",
        "$$\n",
        "para todo $i<j$."
      ]
    },
    {
      "cell_type": "code",
      "execution_count": null,
      "metadata": {
        "id": "0nRx3yV-7Xy-"
      },
      "outputs": [],
      "source": []
    },
    {
      "cell_type": "markdown",
      "metadata": {
        "id": "R8owM8uN7Xy-"
      },
      "source": [
        "### Problema 5\n",
        "\n",
        "1. Escriba una función que evalúe el **polinomio interpolante de Netwon** $P$ en un punto $x$ con $x_0 < x < x_n$ siendo $(x_i,y_i)$ para $i=0,...,n$ los puntos a interpolar. La función debe tomar como argumentos de entrada: **i)** el valor $x$, **ii)** un arreglo $v$ de valores $x_i$ y **iii)** un arreglo $w$ de valores $y_i$, y debe retornal el valor $P(x)$.\n",
        "\n",
        "2. Grafique los polinomios interpolantes de Newton para las funciones del **problema 4** en $N=200$ puntos equidistantes en el intervalo $[x_0,x_n]$ correspondiente. Incluya en el grafico las curvas de las funciones y, con símbolos, los puntos de interpolación.\n",
        "\n",
        "3. Repita 1. y 2. pero usando puntos de interpolación determinados por $n=80$ valores equidistantes de $x_i$ en $[0,0.6]$ para $f$ y $[1,1.4]$ para $g$.\n",
        "\n",
        "4. Repita 3. pero usando `BigFloat` en vez de `Float64`.\n",
        "\n",
        "5. Interprete lo observado."
      ]
    },
    {
      "cell_type": "code",
      "execution_count": null,
      "metadata": {
        "id": "AH8W3DoT7Xy_"
      },
      "outputs": [],
      "source": []
    },
    {
      "cell_type": "markdown",
      "metadata": {
        "id": "scjl2Evu7Xy_"
      },
      "source": [
        "### Problema 6\n",
        "\n",
        "Considere la función definida por $f(x) = \\frac{1}{1 + 25 x^2}$.\n",
        "\n",
        "1. Grafique la función $f$ en el intervalo $[-1,1]$.\n",
        "\n",
        "Para cada valor de $n\\in \\{5, 10, 20\\}$:\n",
        "\n",
        "2. Calcule la interpolación de $f$ por el **método de Lagrange** usando $n+1$ valores equidistantes de $x$ en el intervalo mencionado.\n",
        "\n",
        "3. Añada al gráfico una curva del polinomio interpolante evaluandolo en 200 puntos equidistantes en los rangos $x=[-1,1]$ e $y=[-1.5,1.5]$.\n",
        "\n",
        "4. Calcule el error máximo para cada caso e incluya estos datos de errores máximos en el gráfico.\n",
        "\n",
        "**Nota:** En este problema se observa el llamado fenómeno de Runge, en el que la interpolación\n",
        "por polinomios usando puntos equiespaciados da resultados divergentes.\n",
        "\n",
        "5. ¿Por qué no hay contradicción con el teorema de aproximación de Weierstrass?\n",
        "\n",
        "6. En vez de puntos equiespaciados, pruebe usando el espaciamiento de Chebyshev dado por $ x_i = -\\cos( \\pi (i-1)/n )$, para $i=1,2,...,n+1$. ¿Disminuye significativamente el error en este caso?"
      ]
    },
    {
      "cell_type": "code",
      "execution_count": null,
      "metadata": {
        "id": "LeZG2oRC7Xy_"
      },
      "outputs": [],
      "source": []
    },
    {
      "cell_type": "markdown",
      "metadata": {
        "id": "AbTJDh0D7Xy_"
      },
      "source": [
        "## Ejercicios Complementarios"
      ]
    },
    {
      "cell_type": "markdown",
      "metadata": {
        "id": "GidlunOv7XzA"
      },
      "source": [
        "### Problema C.1\n",
        "\n",
        "Considere el siguiente polinomio:\n",
        "$$\n",
        "p(x) = -10 + 5 x - 12 x^2  + 6 x^3  - 2 x^4  + x^5 \\ ,\n",
        "$$\n",
        "\n",
        "1. Grafíquelo y observe que posee una única raíz real positiva.\n",
        "\n",
        "2. Calcule a mano su derivada y grafíquela.\n",
        "\n",
        "3. Evalúe el polinomio y su derivada utilizando el algoritmo de Horner. Grafique nuevamente comparando con las versiones anteriores.\n",
        "\n",
        "4. Encuentre la raíz del polinomo utilizando el método de Newton-Raphson, eligiendo el valor inicial $p_1$ utilizando los teoremas que acotan la región del espacio complejo donde se encuentran las raíces."
      ]
    },
    {
      "cell_type": "markdown",
      "metadata": {
        "id": "Jbz7h9QU7XzA"
      },
      "source": [
        "**Ayuda: Teorema de las cotas de Hirst-Macey**\n",
        "\n",
        "Sea $p(x) = a_0 + a_1x + a_2x^2+...+a_nx^n$ un polinomio sobre $\\mathbb{C}$ de grado $n\\geq 1$ y coeficientes $a_i\\in \\mathbb{C}$ para $i=0,1,...,n$. Luego, si $x$ es una raíz de $p$, entonces $|x|\\leq \\max\\{1,\\sum_{i=0}^{n-1}\\left|\\frac{a_i}{a_n}\\right|\\}$.\n",
        "\n",
        "**Referencias:**\n",
        "\n",
        "https://www.jstor.org/stable/2687152"
      ]
    },
    {
      "cell_type": "code",
      "execution_count": null,
      "metadata": {
        "id": "Op2flUXq7XzA"
      },
      "outputs": [],
      "source": []
    },
    {
      "cell_type": "markdown",
      "metadata": {
        "id": "ZtYn_5Fn7XzA"
      },
      "source": [
        "### Problema C.2: Error  de la interpolación polinomial para puntos equiespaciados\n",
        "\n",
        "Usando el teorema dado en el teórico, demuestre el siguiente corolario.\n",
        "\n",
        "**Corolario:** Sea $f \\varepsilon C_{[a,b]}^{(n+1)}$  tal que $\\exists M>0 / |f^{(n+1)}(x) |< M \\;\\forall \\,x\\varepsilon [a,b]$ (i.e. su $n+1$-ésima derivada es acotada en $[a,b]$). Sea $x_i=a + i \\;; i=0,\\cdots,n$ donde $ h=(b-a)/n$. Sea $P_n$ es el polinomio de grado $n$ interpolante a $f$ en los puntos $x_i$ (i.e. $P_n(x_i)=f(x_i)\\;,i=0,\\cdots ,n$). Entonces, $\\forall\\;x\\varepsilon [a,b]$ se tiene\n",
        "$$\n",
        "\\left| f(x) - P_n(x)\\right | \\leq \\frac{M}{4 (n+1)}\\;\\left(\\frac{b-a}{n}\\right)^{n+1}\n",
        "$$"
      ]
    },
    {
      "cell_type": "code",
      "execution_count": null,
      "metadata": {
        "id": "vlaKx-4c7XzB"
      },
      "outputs": [],
      "source": []
    }
  ],
  "metadata": {
    "@webio": {
      "lastCommId": null,
      "lastKernelId": null
    },
    "kernelspec": {
      "display_name": "Julia 1.8.0",
      "language": "julia",
      "name": "julia-1.8"
    },
    "language_info": {
      "file_extension": ".jl",
      "mimetype": "application/julia",
      "name": "julia",
      "version": "1.8.0"
    },
    "colab": {
      "provenance": [],
      "include_colab_link": true
    }
  },
  "nbformat": 4,
  "nbformat_minor": 0
}