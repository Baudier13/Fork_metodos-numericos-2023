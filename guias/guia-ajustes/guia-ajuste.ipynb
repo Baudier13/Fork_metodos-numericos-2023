{
 "cells": [
  {
   "cell_type": "markdown",
   "metadata": {},
   "source": [
    "# Métodos Numéricos (2023)\n",
    "\n",
    "## Guía extra: Ajuste de datos"
   ]
  },
  {
   "cell_type": "markdown",
   "metadata": {},
   "source": [
    "### Nota para bajar archivos de github:\n",
    "\n",
    "1. **Notar que Windows usa `\"\\\\\"` en vez de `\"/\"`.**\n",
    "\n",
    "2. Cuando entre a github a ver los links a los archivos, seleccione primero el archivo, cuando se visualice selecione el botón **Raw**. Fíjese que el link debe comenzar con https://raw.githubusercontent.com"
   ]
  },
  {
   "cell_type": "code",
   "execution_count": null,
   "metadata": {},
   "outputs": [],
   "source": [
    "using Plots\n",
    "using LaTeXStrings\n",
    "using LsqFit\n",
    "using LinearAlgebra\n",
    "using CSV #coma separated values\n",
    "using DataFrames"
   ]
  },
  {
   "cell_type": "markdown",
   "metadata": {},
   "source": [
    "## Problema 1\n",
    "\n",
    "Supongamos que tenemos una serie de datos $\\{x_i,y_i:i=1,...,n\\}$ y que queremos ajustar un modelo $f$ definido por\n",
    "\n",
    "$$\n",
    "f(x,p) = p_1f_1(x)+p_2f_2(x)+...+p_mf_m(x)\n",
    "$$\n",
    "\n",
    "donde $f_1,f_2,...,f_m$ son funciones de $x$ y $p_1,...,p_m$ parámetros correspondientementes.\n",
    "Es importante resaltar que $f$ depende linealmente de los parámetros. \n",
    "\n",
    "Considere el Error Cuadratico o EC (en inglés, Squared Error o SE)\n",
    "\n",
    "$$\n",
    "d(p) = \\sum_{i=1}^n (f(x_i,p)-y_i)^2\n",
    "$$\n",
    "\n",
    "El EC es una medida de distancia que cuantifica cuán bien (o mal) el modelo en consideración ajusta los datos.\n",
    "En particular, puede considerarse que el ajuste óptimo de los datos (dentro de lo que el modelo en cuestión puede proveer) ocurre para el valor de $p$ que minimiza el EC.\n",
    "\n",
    "1. Especifique las condiciones que determinan el valor de $p$ que minimiza el EC. \n",
    "\n",
    "2. Exprese dichas condiciones como un sistema lineal de 3 ecuaciones para tres incógnitas, \n",
    "\n",
    "$$\n",
    "Ap = b\n",
    "$$\n",
    "\n",
    "3. Cargue los datos proveidos en el archivo `cuadratica.dat` en dos vectores $x$ e $y$, y grafíquelos.\n",
    "\n",
    "4. Utilice dichos vectores para calcular la matriz $A$ y el vector $b$ para el caso particular en que $f_1(x) = 1$, $f_2(x) = x$ y $f_3(x) = x^2$.\n",
    "\n",
    "4. Utilice $A$ y $b$ para encontrar el mejor ajuste $p$, y grafique el modelo ajustado junto a los datos.\n",
    "\n",
    "5. Repita el ajuste usando el paquete `LsqFit` y compare resultados."
   ]
  },
  {
   "cell_type": "markdown",
   "metadata": {},
   "source": [
    "**Ayuda:** Para cargar los datos en `cuadratica.dat` a vectores de Julia utilice:"
   ]
  },
  {
   "cell_type": "code",
   "execution_count": null,
   "metadata": {},
   "outputs": [],
   "source": [
    "x = Vector{Float64}()\n",
    "y = Vector{Float64}()\n",
    "open(\"cuadratica.dat\",\"r\") do fh\n",
    "    for line in readlines(fh) \n",
    "        cols = split(line)\n",
    "        push!(x,parse(Float64,cols[1]))\n",
    "        push!(y,parse(Float64,cols[2]))\n",
    "    end\n",
    "end"
   ]
  },
  {
   "cell_type": "code",
   "execution_count": null,
   "metadata": {},
   "outputs": [],
   "source": []
  },
  {
   "cell_type": "markdown",
   "metadata": {},
   "source": [
    "## Problema 2, Potencial de Lennard-Jones\n",
    "\n",
    "El comportamiento de dos átomos ligados formando una molécula estable puede ser descripto en términos de las masas de los mismos, y una energía potencial $U(r)$ que depende de la distancia $r$ entre sus centros.\n",
    "A distancias cortas, los átomos se repelen.\n",
    "A distancias grandes, los átomos se atraen, manteniendo formada la molécula.\n",
    "El potencial de Lennard-Jones es un modelo de $U(r)$ frecuentemente utilizado, y se define por\n",
    "$$\n",
    "U(r) = U_0 \\bigg[ \\bigg( \\frac{r_0}{r} \\bigg)^{12} - 2\\bigg( \\frac{r_0}{r} \\bigg)^6  \\bigg]\n",
    "$$\n",
    "\n",
    "Los parámetros $r_0$ y $U_0$ están empíricamente determinados por la molécula en consideración.\n",
    "Distintas moléculas, requieren distintos valores de $r_0$ y $U_0$.\n",
    "Para $r>r_0$ la pendiente de $U(r)$ es positiva, la fuerza es atractiva. \n",
    "Para $r<r_0$, la pendiente es negativa y la fuerza es fuertemente repulsiva.\n",
    "Para $r=r_0$ la fuerza es nula (mínimo de la energía potencial) y por tanto la molécula está en equilibrio.\n",
    "\n",
    "1. Gradique el potencial de Lennard-Jones usando $r_0=1[\\mathring{A}]$ y $U_0=1[meV]$ para tener una idea de su forma.\n",
    "\n",
    "2. Se realizaron mediciones del potencial $U(r)$ de una moleculada dada, a distintas distancias $r$. Los resultados obtenidos son:\n",
    "\n",
    "    |$r$ [A] | $U(r)$ [meV] |\n",
    "    |------|------------|\n",
    "    |2.85  |  2.66542   |\n",
    "    |2.90  |  1.01110   |\n",
    "    |3.00  |  -1.07252  |\n",
    "    |3.10  |  -2.11419  |\n",
    "    |3.30  |  -2.67023  |\n",
    "    |3.70  |  -2.00824  |\n",
    "    |4.00  |  -1.41200  |\n",
    "    |4.50  |  -0.75629  |\n",
    "    |5.20  |  -0.32556  |\n",
    "    |6.00  |  -0.13291  |\n",
    "    |7.00  |  -0.04498  |\n",
    "    |8.00  |  -0.01276  |\n",
    "\n",
    "    donde $\\mathring{A}$ indica una unidad de Angstrom. Determine los valores de $U_0$ y $r_0$ ajustando los datos de la tabla. Grafique simultaneamente los datos y el ajuste.\n",
    "\n",
    "3. Considere la siguiente tabla e infiera que molécula fué medida\n",
    "\n",
    "|Molécula  |$U_0$ [meV] |  $r_0$ [A] |\n",
    "|----------|------|-----|\n",
    "|Hidrógeno | 2.68 | 3.3 |\n",
    "|Nitrógeno | 8.18 | 4.2 |\n",
    "|Oxígeno   |10.11 | 3.9 |"
   ]
  },
  {
   "cell_type": "code",
   "execution_count": null,
   "metadata": {},
   "outputs": [],
   "source": []
  },
  {
   "cell_type": "markdown",
   "metadata": {},
   "source": [
    "## Problema 3\n",
    "\n",
    "Considérese el circuito en serie de la figura. Inicialmente el condensador está descargado. Si se cierra el interruptor I la carga empieza a fluir produciendo corriente en el circuito, el condensador se empieza a cargar. Una vez que se alcanza la carga máxima la corriente cesa en el circuito.\n",
    "\n",
    "![rc.gif](./rc.gif)\n",
    "\n",
    "Para la carga de un condensador se aplica la siguiente ley\n",
    "$$ q(t) = C V_\\epsilon \\bigg(1 -\\exp\\bigg(\\frac{-t}{R C}\\bigg) \\bigg) $$\n",
    "\n",
    "Luego si removemos la fuente $V_\\epsilon$ del circuito y cerramos el interruptor I, el condensador se comenzará a descargar, siguiendo la siguiente ecuación:\n",
    "\n",
    "$$ q(t) = CV_\\epsilon\\exp\\bigg(\\frac{-t}{RC}\\bigg) $$\n",
    "\n",
    "Se realizaron mediciones de un circuito en donde se desconoce el R equivalente y el C equivalente, aplicando una tensión de 12 V.\n",
    "Los datos obtenidos son los siguientes:\n",
    "\n",
    "|t[s] | carga[C] | descarga[C] | \n",
    "|----|----------|----------|\n",
    "|0.0 | 0.000000 | 0.012972 | \n",
    "| 5.0 | 0.010577 | 0.002393 | \n",
    "|10.0 | 0.012575 | 0.000452 | \n",
    "| 15.0 | 0.012952 | 0.000085 | \n",
    "| 20.0 | 0.013023 | 0.000016 |\n",
    "\n",
    "1. Ajuste los datos carga del condensador con la siguiente función $$q_c(t) = A_c \\bigg(1 - \\exp\\bigg(\\frac{-t}{T_c}\\bigg)\\bigg)$$. Grafique los datos y las aproximaciones obtenidas.\n",
    "\n",
    "2. A los datos de la descarga ajustelo con la funcion $$ q_d(t) = A_d \\exp\\bigg(\\frac{-t}{T_d}\\bigg)$$. Grafique los datos y las aproximaciones obtenidas.\n",
    "\n",
    "3. Compare los resultados de los A y T para ambos casos, carga y descarga. Obtenga la matriz de correlación para ambos casos, comparela, saque conclusiones.\n",
    "\n",
    "4. Considerando el valor de $V$ de 12 V, determine $R$ y $C$."
   ]
  },
  {
   "cell_type": "code",
   "execution_count": null,
   "metadata": {},
   "outputs": [],
   "source": []
  },
  {
   "cell_type": "markdown",
   "metadata": {},
   "source": [
    "## Problema 4\n",
    "\n",
    "En este ejercicio aprenderá a bajar los datos de un archivo similar el del ejercicio anterior, pero usando la librería `CSV.jl`. \n",
    "\n",
    "Ajuste los datos del archivo `math_pendulum_1.csv` con una función del tipo \n",
    "\n",
    "$$m(t,p) = p_1 + p_2\\cos(p_3t + p_4)$$\n",
    "\n",
    "1. Para ello primero grafique los datos y obtenga parámetros aproximados a los fines de iniciar la búsqueda de los mejores parámetros.\n",
    "2. Realize el ajuste con la librería `LsqFit`.\n",
    "3. Grafique en un mismo gráfico los datos dados y la mejor aproximación."
   ]
  },
  {
   "cell_type": "markdown",
   "metadata": {},
   "source": [
    "Ayuda: para bajar los datos use la siguiente expresión:"
   ]
  },
  {
   "cell_type": "code",
   "execution_count": null,
   "metadata": {},
   "outputs": [],
   "source": [
    "data_mp = CSV.read(\"math_pendulum_1.csv\", DataFrame,  delim=\",\", ignorerepeated=true)"
   ]
  },
  {
   "cell_type": "markdown",
   "metadata": {},
   "source": [
    "Los vectores con los datos están dados por `data_mp.t` y `data_mp.x`."
   ]
  },
  {
   "cell_type": "code",
   "execution_count": null,
   "metadata": {},
   "outputs": [],
   "source": [
    "t_data = data_mp.t\n",
    "x_data = data_mp.x\n",
    ";"
   ]
  },
  {
   "cell_type": "code",
   "execution_count": null,
   "metadata": {},
   "outputs": [],
   "source": []
  }
 ],
 "metadata": {
  "@webio": {
   "lastCommId": null,
   "lastKernelId": null
  },
  "kernelspec": {
   "display_name": "Julia 1.8.1",
   "language": "julia",
   "name": "julia-1.8"
  },
  "language_info": {
   "file_extension": ".jl",
   "mimetype": "application/julia",
   "name": "julia",
   "version": "1.8.1"
  },
  "latex_envs": {
   "LaTeX_envs_menu_present": true,
   "autoclose": false,
   "autocomplete": true,
   "bibliofile": "biblio.bib",
   "cite_by": "apalike",
   "current_citInitial": 1,
   "eqLabelWithNumbers": true,
   "eqNumInitial": 1,
   "hotkeys": {
    "equation": "Ctrl-E",
    "itemize": "Ctrl-I"
   },
   "labels_anchors": false,
   "latex_user_defs": false,
   "report_style_numbering": false,
   "user_envs_cfg": false
  }
 },
 "nbformat": 4,
 "nbformat_minor": 4
}
