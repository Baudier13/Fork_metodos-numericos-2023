{
 "cells": [
  {
   "cell_type": "markdown",
   "metadata": {},
   "source": [
    "# Métodos Numéricos (Mayo 2023)\n",
    "\n",
    "## Guía 4: Derivadas"
   ]
  },
  {
   "cell_type": "code",
   "execution_count": 10,
   "metadata": {},
   "outputs": [],
   "source": [
    "using Plots\n",
    "using LaTeXStrings"
   ]
  },
  {
   "cell_type": "markdown",
   "metadata": {},
   "source": [
    "## Problema 1\n",
    "\n",
    "\n",
    "Defina una función, que, dada una función, un punto y un intervalo, retorne una aproximación a la derivada de la función dada, evaluada en el punto dado, utilizando la fórmula de diferencias finitas que se deriva de la siguiente aproximación (*fórmula centrada de tres puntos*): \n",
    "\n",
    "\n",
    "$$\n",
    "f^\\prime(x) = \\frac{f(x+h) - f(x-h)}{2h} + \\mathcal{O}(h^2)\n",
    "$$\n",
    "\n",
    "Utilize dicha función para evaluar la derivada de la función $f(x) = x e^x$ en el punto $x=2$\n",
    "para distintos valores de $h$ y calcule el incremento óptimo $h_o$ teniendo en cuenta los errores de truncamiento y redondeo. \n",
    "Usando la diferencia entre $f'(2)$ (calculado en Julia usando las funciones matemáticas incorporadas) y el valor de la aproximación mencionada, grafique en escala *log-log* el error versus $h$ para $h = 10^{-k}$ con $k$ entero."
   ]
  },
  {
   "cell_type": "code",
   "execution_count": 3,
   "metadata": {},
   "outputs": [
    {
     "data": {
      "text/plain": [
       "dif_3 (generic function with 1 method)"
      ]
     },
     "execution_count": 3,
     "metadata": {},
     "output_type": "execute_result"
    }
   ],
   "source": [
    "function dif_3(f::Function,\n",
    "    h::Float64,\n",
    "    x::Float64)\n",
    "    \n",
    "    df = (f(x+h) - f(x-h)) / (2*h)\n",
    "    return df\n",
    "end\n",
    "        "
   ]
  },
  {
   "cell_type": "code",
   "execution_count": 4,
   "metadata": {},
   "outputs": [
    {
     "data": {
      "text/plain": [
       "df_2 (generic function with 1 method)"
      ]
     },
     "execution_count": 4,
     "metadata": {},
     "output_type": "execute_result"
    }
   ],
   "source": [
    "f(x) = x*exp(x)\n",
    "df_2(h) = dif_3(f,h,2.0)"
   ]
  },
  {
   "cell_type": "code",
   "execution_count": 5,
   "metadata": {},
   "outputs": [
    {
     "data": {
      "text/plain": [
       "g64 (generic function with 1 method)"
      ]
     },
     "execution_count": 5,
     "metadata": {},
     "output_type": "execute_result"
    }
   ],
   "source": [
    "df(x) = (x+1)*exp(x)\n",
    "valf2 = df(2)\n",
    "g64(h) = df_2(h) - valf2"
   ]
  },
  {
   "cell_type": "code",
   "execution_count": 6,
   "metadata": {},
   "outputs": [
    {
     "data": {
      "text/plain": [
       "gBF (generic function with 1 method)"
      ]
     },
     "execution_count": 6,
     "metadata": {},
     "output_type": "execute_result"
    }
   ],
   "source": [
    "# Funcion en 32\n",
    "g32(h)=(Float32(f(2.0+h))-Float32(f(2.0-h)))/Float32(2h) - Float32(valf2)\n",
    "# Funcion en bigFloat\n",
    "gBF(h)=(BigFloat(f(2.0+h))-BigFloat(f(2.0-h)))/BigFloat(2h) - BigFloat(valf2)\n"
   ]
  },
  {
   "cell_type": "code",
   "execution_count": 9,
   "metadata": {},
   "outputs": [],
   "source": [
    "n = 20\n",
    "h = [10.0^(-i) for i in 1:n] ;"
   ]
  },
  {
   "cell_type": "code",
   "execution_count": 13,
   "metadata": {},
   "outputs": [
    {
     "data": {
      "image/svg+xml": [
       "<?xml version=\"1.0\" encoding=\"utf-8\"?>\n",
       "<svg xmlns=\"http://www.w3.org/2000/svg\" xmlns:xlink=\"http://www.w3.org/1999/xlink\" width=\"600\" height=\"400\" viewBox=\"0 0 2400 1600\">\n",
       "<defs>\n",
       "  <clipPath id=\"clip640\">\n",
       "    <rect x=\"0\" y=\"0\" width=\"2400\" height=\"1600\"/>\n",
       "  </clipPath>\n",
       "</defs>\n",
       "<path clip-path=\"url(#clip640)\" d=\"M0 1600 L2400 1600 L2400 0 L0 0  Z\" fill=\"#ffffff\" fill-rule=\"evenodd\" fill-opacity=\"1\"/>\n",
       "<defs>\n",
       "  <clipPath id=\"clip641\">\n",
       "    <rect x=\"480\" y=\"0\" width=\"1681\" height=\"1600\"/>\n",
       "  </clipPath>\n",
       "</defs>\n",
       "<path clip-path=\"url(#clip640)\" d=\"M213.607 1474.16 L2014.53 1474.16 L2014.53 47.2441 L213.607 47.2441  Z\" fill=\"#ffffff\" fill-rule=\"evenodd\" fill-opacity=\"1\"/>\n",
       "<defs>\n",
       "  <clipPath id=\"clip642\">\n",
       "    <rect x=\"213\" y=\"47\" width=\"1802\" height=\"1428\"/>\n",
       "  </clipPath>\n",
       "</defs>\n",
       "<polyline clip-path=\"url(#clip642)\" style=\"stroke:#000000; stroke-linecap:round; stroke-linejoin:round; stroke-width:2; stroke-opacity:0.1; fill:none\" points=\"264.577,1474.16 264.577,47.2441 \"/>\n",
       "<polyline clip-path=\"url(#clip642)\" style=\"stroke:#000000; stroke-linecap:round; stroke-linejoin:round; stroke-width:2; stroke-opacity:0.1; fill:none\" points=\"1158.78,1474.16 1158.78,47.2441 \"/>\n",
       "<polyline clip-path=\"url(#clip640)\" style=\"stroke:#000000; stroke-linecap:round; stroke-linejoin:round; stroke-width:4; stroke-opacity:1; fill:none\" points=\"213.607,1474.16 2014.53,1474.16 \"/>\n",
       "<polyline clip-path=\"url(#clip640)\" style=\"stroke:#000000; stroke-linecap:round; stroke-linejoin:round; stroke-width:4; stroke-opacity:1; fill:none\" points=\"264.577,1474.16 264.577,1455.27 \"/>\n",
       "<polyline clip-path=\"url(#clip640)\" style=\"stroke:#000000; stroke-linecap:round; stroke-linejoin:round; stroke-width:4; stroke-opacity:1; fill:none\" points=\"1158.78,1474.16 1158.78,1455.27 \"/>\n",
       "<path clip-path=\"url(#clip640)\" d=\"M201.941 1548.29 L209.579 1548.29 L209.579 1521.92 L201.269 1523.59 L201.269 1519.33 L209.533 1517.66 L214.209 1517.66 L214.209 1548.29 L221.848 1548.29 L221.848 1552.22 L201.941 1552.22 L201.941 1548.29 Z\" fill=\"#000000\" fill-rule=\"nonzero\" fill-opacity=\"1\" /><path clip-path=\"url(#clip640)\" d=\"M241.292 1520.74 Q237.681 1520.74 235.852 1524.31 Q234.047 1527.85 234.047 1534.98 Q234.047 1542.09 235.852 1545.65 Q237.681 1549.19 241.292 1549.19 Q244.926 1549.19 246.732 1545.65 Q248.561 1542.09 248.561 1534.98 Q248.561 1527.85 246.732 1524.31 Q244.926 1520.74 241.292 1520.74 M241.292 1517.04 Q247.102 1517.04 250.158 1521.65 Q253.237 1526.23 253.237 1534.98 Q253.237 1543.71 250.158 1548.31 Q247.102 1552.9 241.292 1552.9 Q235.482 1552.9 232.403 1548.31 Q229.348 1543.71 229.348 1534.98 Q229.348 1526.23 232.403 1521.65 Q235.482 1517.04 241.292 1517.04 Z\" fill=\"#000000\" fill-rule=\"nonzero\" fill-opacity=\"1\" /><path clip-path=\"url(#clip640)\" d=\"M253.237 1511.14 L277.348 1511.14 L277.348 1514.34 L253.237 1514.34 L253.237 1511.14 Z\" fill=\"#000000\" fill-rule=\"nonzero\" fill-opacity=\"1\" /><path clip-path=\"url(#clip640)\" d=\"M288.821 1521.62 L302.08 1521.62 L302.08 1524.81 L284.251 1524.81 L284.251 1521.62 Q286.413 1519.38 290.137 1515.62 Q293.88 1511.84 294.839 1510.75 Q296.664 1508.7 297.378 1507.29 Q298.112 1505.86 298.112 1504.48 Q298.112 1502.24 296.532 1500.83 Q294.971 1499.42 292.451 1499.42 Q290.664 1499.42 288.67 1500.04 Q286.696 1500.67 284.439 1501.93 L284.439 1498.09 Q286.733 1497.17 288.727 1496.7 Q290.72 1496.23 292.376 1496.23 Q296.739 1496.23 299.334 1498.41 Q301.93 1500.59 301.93 1504.24 Q301.93 1505.97 301.272 1507.53 Q300.632 1509.07 298.921 1511.18 Q298.45 1511.72 295.93 1514.34 Q293.41 1516.93 288.821 1521.62 Z\" fill=\"#000000\" fill-rule=\"nonzero\" fill-opacity=\"1\" /><path clip-path=\"url(#clip640)\" d=\"M318.18 1499.24 Q315.246 1499.24 313.76 1502.13 Q312.293 1505.01 312.293 1510.8 Q312.293 1516.58 313.76 1519.47 Q315.246 1522.35 318.18 1522.35 Q321.133 1522.35 322.6 1519.47 Q324.085 1516.58 324.085 1510.8 Q324.085 1505.01 322.6 1502.13 Q321.133 1499.24 318.18 1499.24 M318.18 1496.23 Q322.901 1496.23 325.383 1499.97 Q327.885 1503.69 327.885 1510.8 Q327.885 1517.89 325.383 1521.64 Q322.901 1525.36 318.18 1525.36 Q313.459 1525.36 310.958 1521.64 Q308.475 1517.89 308.475 1510.8 Q308.475 1503.69 310.958 1499.97 Q313.459 1496.23 318.18 1496.23 Z\" fill=\"#000000\" fill-rule=\"nonzero\" fill-opacity=\"1\" /><path clip-path=\"url(#clip640)\" d=\"M1096.14 1548.29 L1103.78 1548.29 L1103.78 1521.92 L1095.47 1523.59 L1095.47 1519.33 L1103.73 1517.66 L1108.41 1517.66 L1108.41 1548.29 L1116.05 1548.29 L1116.05 1552.22 L1096.14 1552.22 L1096.14 1548.29 Z\" fill=\"#000000\" fill-rule=\"nonzero\" fill-opacity=\"1\" /><path clip-path=\"url(#clip640)\" d=\"M1135.49 1520.74 Q1131.88 1520.74 1130.05 1524.31 Q1128.25 1527.85 1128.25 1534.98 Q1128.25 1542.09 1130.05 1545.65 Q1131.88 1549.19 1135.49 1549.19 Q1139.13 1549.19 1140.93 1545.65 Q1142.76 1542.09 1142.76 1534.98 Q1142.76 1527.85 1140.93 1524.31 Q1139.13 1520.74 1135.49 1520.74 M1135.49 1517.04 Q1141.3 1517.04 1144.36 1521.65 Q1147.44 1526.23 1147.44 1534.98 Q1147.44 1543.71 1144.36 1548.31 Q1141.3 1552.9 1135.49 1552.9 Q1129.68 1552.9 1126.6 1548.31 Q1123.55 1543.71 1123.55 1534.98 Q1123.55 1526.23 1126.6 1521.65 Q1129.68 1517.04 1135.49 1517.04 Z\" fill=\"#000000\" fill-rule=\"nonzero\" fill-opacity=\"1\" /><path clip-path=\"url(#clip640)\" d=\"M1147.44 1511.14 L1171.55 1511.14 L1171.55 1514.34 L1147.44 1514.34 L1147.44 1511.14 Z\" fill=\"#000000\" fill-rule=\"nonzero\" fill-opacity=\"1\" /><path clip-path=\"url(#clip640)\" d=\"M1180.41 1521.62 L1186.61 1521.62 L1186.61 1500.19 L1179.86 1501.55 L1179.86 1498.09 L1186.58 1496.73 L1190.38 1496.73 L1190.38 1521.62 L1196.58 1521.62 L1196.58 1524.81 L1180.41 1524.81 L1180.41 1521.62 Z\" fill=\"#000000\" fill-rule=\"nonzero\" fill-opacity=\"1\" /><path clip-path=\"url(#clip640)\" d=\"M1212.38 1499.24 Q1209.45 1499.24 1207.96 1502.13 Q1206.49 1505.01 1206.49 1510.8 Q1206.49 1516.58 1207.96 1519.47 Q1209.45 1522.35 1212.38 1522.35 Q1215.33 1522.35 1216.8 1519.47 Q1218.29 1516.58 1218.29 1510.8 Q1218.29 1505.01 1216.8 1502.13 Q1215.33 1499.24 1212.38 1499.24 M1212.38 1496.23 Q1217.1 1496.23 1219.58 1499.97 Q1222.09 1503.69 1222.09 1510.8 Q1222.09 1517.89 1219.58 1521.64 Q1217.1 1525.36 1212.38 1525.36 Q1207.66 1525.36 1205.16 1521.64 Q1202.68 1517.89 1202.68 1510.8 Q1202.68 1503.69 1205.16 1499.97 Q1207.66 1496.23 1212.38 1496.23 Z\" fill=\"#000000\" fill-rule=\"nonzero\" fill-opacity=\"1\" /><polyline clip-path=\"url(#clip642)\" style=\"stroke:#000000; stroke-linecap:round; stroke-linejoin:round; stroke-width:2; stroke-opacity:0.1; fill:none\" points=\"213.607,1066.47 2014.53,1066.47 \"/>\n",
       "<polyline clip-path=\"url(#clip642)\" style=\"stroke:#000000; stroke-linecap:round; stroke-linejoin:round; stroke-width:2; stroke-opacity:0.1; fill:none\" points=\"213.607,556.859 2014.53,556.859 \"/>\n",
       "<polyline clip-path=\"url(#clip642)\" style=\"stroke:#000000; stroke-linecap:round; stroke-linejoin:round; stroke-width:2; stroke-opacity:0.1; fill:none\" points=\"213.607,47.2441 2014.53,47.2441 \"/>\n",
       "<polyline clip-path=\"url(#clip640)\" style=\"stroke:#000000; stroke-linecap:round; stroke-linejoin:round; stroke-width:4; stroke-opacity:1; fill:none\" points=\"213.607,1474.16 213.607,47.2441 \"/>\n",
       "<polyline clip-path=\"url(#clip640)\" style=\"stroke:#000000; stroke-linecap:round; stroke-linejoin:round; stroke-width:4; stroke-opacity:1; fill:none\" points=\"213.607,1066.47 229.517,1066.47 \"/>\n",
       "<polyline clip-path=\"url(#clip640)\" style=\"stroke:#000000; stroke-linecap:round; stroke-linejoin:round; stroke-width:4; stroke-opacity:1; fill:none\" points=\"213.607,556.859 229.517,556.859 \"/>\n",
       "<polyline clip-path=\"url(#clip640)\" style=\"stroke:#000000; stroke-linecap:round; stroke-linejoin:round; stroke-width:4; stroke-opacity:1; fill:none\" points=\"213.607,47.2441 229.517,47.2441 \"/>\n",
       "<path clip-path=\"url(#clip640)\" d=\"M51.6634 1086.27 L59.3023 1086.27 L59.3023 1059.9 L50.9921 1061.57 L50.9921 1057.31 L59.256 1055.64 L63.9319 1055.64 L63.9319 1086.27 L71.5707 1086.27 L71.5707 1090.2 L51.6634 1090.2 L51.6634 1086.27 Z\" fill=\"#000000\" fill-rule=\"nonzero\" fill-opacity=\"1\" /><path clip-path=\"url(#clip640)\" d=\"M91.0151 1058.72 Q87.404 1058.72 85.5753 1062.28 Q83.7697 1065.83 83.7697 1072.96 Q83.7697 1080.06 85.5753 1083.63 Q87.404 1087.17 91.0151 1087.17 Q94.6493 1087.17 96.4548 1083.63 Q98.2835 1080.06 98.2835 1072.96 Q98.2835 1065.83 96.4548 1062.28 Q94.6493 1058.72 91.0151 1058.72 M91.0151 1055.02 Q96.8252 1055.02 99.8808 1059.62 Q102.959 1064.21 102.959 1072.96 Q102.959 1081.68 99.8808 1086.29 Q96.8252 1090.87 91.0151 1090.87 Q85.2049 1090.87 82.1262 1086.29 Q79.0707 1081.68 79.0707 1072.96 Q79.0707 1064.21 82.1262 1059.62 Q85.2049 1055.02 91.0151 1055.02 Z\" fill=\"#000000\" fill-rule=\"nonzero\" fill-opacity=\"1\" /><path clip-path=\"url(#clip640)\" d=\"M102.959 1049.12 L127.071 1049.12 L127.071 1052.31 L102.959 1052.31 L102.959 1049.12 Z\" fill=\"#000000\" fill-rule=\"nonzero\" fill-opacity=\"1\" /><path clip-path=\"url(#clip640)\" d=\"M135.929 1059.59 L142.136 1059.59 L142.136 1038.17 L135.384 1039.53 L135.384 1036.06 L142.098 1034.71 L145.898 1034.71 L145.898 1059.59 L152.104 1059.59 L152.104 1062.79 L135.929 1062.79 L135.929 1059.59 Z\" fill=\"#000000\" fill-rule=\"nonzero\" fill-opacity=\"1\" /><path clip-path=\"url(#clip640)\" d=\"M167.903 1037.21 Q164.969 1037.21 163.483 1040.11 Q162.016 1042.99 162.016 1048.78 Q162.016 1054.55 163.483 1057.45 Q164.969 1060.33 167.903 1060.33 Q170.855 1060.33 172.322 1057.45 Q173.808 1054.55 173.808 1048.78 Q173.808 1042.99 172.322 1040.11 Q170.855 1037.21 167.903 1037.21 M167.903 1034.2 Q172.623 1034.2 175.106 1037.95 Q177.607 1041.67 177.607 1048.78 Q177.607 1055.87 175.106 1059.61 Q172.623 1063.34 167.903 1063.34 Q163.182 1063.34 160.68 1059.61 Q158.198 1055.87 158.198 1048.78 Q158.198 1041.67 160.68 1037.95 Q163.182 1034.2 167.903 1034.2 Z\" fill=\"#000000\" fill-rule=\"nonzero\" fill-opacity=\"1\" /><path clip-path=\"url(#clip640)\" d=\"M76.9787 576.651 L84.6175 576.651 L84.6175 550.285 L76.3074 551.952 L76.3074 547.693 L84.5712 546.026 L89.2471 546.026 L89.2471 576.651 L96.886 576.651 L96.886 580.586 L76.9787 580.586 L76.9787 576.651 Z\" fill=\"#000000\" fill-rule=\"nonzero\" fill-opacity=\"1\" /><path clip-path=\"url(#clip640)\" d=\"M116.33 549.105 Q112.719 549.105 110.891 552.67 Q109.085 556.211 109.085 563.341 Q109.085 570.447 110.891 574.012 Q112.719 577.554 116.33 577.554 Q119.965 577.554 121.77 574.012 Q123.599 570.447 123.599 563.341 Q123.599 556.211 121.77 552.67 Q119.965 549.105 116.33 549.105 M116.33 545.401 Q122.14 545.401 125.196 550.008 Q128.275 554.591 128.275 563.341 Q128.275 572.068 125.196 576.674 Q122.14 581.257 116.33 581.257 Q110.52 581.257 107.441 576.674 Q104.386 572.068 104.386 563.341 Q104.386 554.591 107.441 550.008 Q110.52 545.401 116.33 545.401 Z\" fill=\"#000000\" fill-rule=\"nonzero\" fill-opacity=\"1\" /><path clip-path=\"url(#clip640)\" d=\"M128.275 539.503 L152.386 539.503 L152.386 542.7 L128.275 542.7 L128.275 539.503 Z\" fill=\"#000000\" fill-rule=\"nonzero\" fill-opacity=\"1\" /><path clip-path=\"url(#clip640)\" d=\"M160.624 525.096 L175.539 525.096 L175.539 528.293 L164.103 528.293 L164.103 535.177 Q164.931 534.895 165.759 534.763 Q166.586 534.613 167.414 534.613 Q172.116 534.613 174.862 537.189 Q177.607 539.766 177.607 544.167 Q177.607 548.7 174.786 551.22 Q171.965 553.721 166.831 553.721 Q165.063 553.721 163.22 553.42 Q161.395 553.119 159.439 552.518 L159.439 548.7 Q161.132 549.621 162.937 550.073 Q164.743 550.524 166.755 550.524 Q170.009 550.524 171.909 548.812 Q173.808 547.101 173.808 544.167 Q173.808 541.233 171.909 539.521 Q170.009 537.81 166.755 537.81 Q165.232 537.81 163.709 538.148 Q162.204 538.487 160.624 539.202 L160.624 525.096 Z\" fill=\"#000000\" fill-rule=\"nonzero\" fill-opacity=\"1\" /><path clip-path=\"url(#clip640)\" d=\"M106.902 67.0365 L114.541 67.0365 L114.541 40.6709 L106.231 42.3376 L106.231 38.0784 L114.494 36.4117 L119.17 36.4117 L119.17 67.0365 L126.809 67.0365 L126.809 70.9717 L106.902 70.9717 L106.902 67.0365 Z\" fill=\"#000000\" fill-rule=\"nonzero\" fill-opacity=\"1\" /><path clip-path=\"url(#clip640)\" d=\"M146.253 39.4904 Q142.642 39.4904 140.814 43.0552 Q139.008 46.5968 139.008 53.7264 Q139.008 60.8329 140.814 64.3977 Q142.642 67.9393 146.253 67.9393 Q149.888 67.9393 151.693 64.3977 Q153.522 60.8329 153.522 53.7264 Q153.522 46.5968 151.693 43.0552 Q149.888 39.4904 146.253 39.4904 M146.253 35.7867 Q152.064 35.7867 155.119 40.3932 Q158.198 44.9765 158.198 53.7264 Q158.198 62.4532 155.119 67.0597 Q152.064 71.643 146.253 71.643 Q140.443 71.643 137.365 67.0597 Q134.309 62.4532 134.309 53.7264 Q134.309 44.9765 137.365 40.3932 Q140.443 35.7867 146.253 35.7867 Z\" fill=\"#000000\" fill-rule=\"nonzero\" fill-opacity=\"1\" /><path clip-path=\"url(#clip640)\" d=\"M167.903 17.9827 Q164.969 17.9827 163.483 20.8791 Q162.016 23.7567 162.016 29.5495 Q162.016 35.3235 163.483 38.2199 Q164.969 41.0975 167.903 41.0975 Q170.855 41.0975 172.322 38.2199 Q173.808 35.3235 173.808 29.5495 Q173.808 23.7567 172.322 20.8791 Q170.855 17.9827 167.903 17.9827 M167.903 14.9735 Q172.623 14.9735 175.106 18.7162 Q177.607 22.4402 177.607 29.5495 Q177.607 36.64 175.106 40.3828 Q172.623 44.1067 167.903 44.1067 Q163.182 44.1067 160.68 40.3828 Q158.198 36.64 158.198 29.5495 Q158.198 22.4402 160.68 18.7162 Q163.182 14.9735 167.903 14.9735 Z\" fill=\"#000000\" fill-rule=\"nonzero\" fill-opacity=\"1\" /><circle clip-path=\"url(#clip642)\" cx=\"1963.56\" cy=\"170.6\" r=\"14.4\" fill=\"#009af9\" fill-rule=\"evenodd\" fill-opacity=\"1\" stroke=\"#000000\" stroke-opacity=\"1\" stroke-width=\"3.2\"/>\n",
       "<circle clip-path=\"url(#clip642)\" cx=\"1874.14\" cy=\"374.477\" r=\"14.4\" fill=\"#009af9\" fill-rule=\"evenodd\" fill-opacity=\"1\" stroke=\"#000000\" stroke-opacity=\"1\" stroke-width=\"3.2\"/>\n",
       "<circle clip-path=\"url(#clip642)\" cx=\"1784.72\" cy=\"578.323\" r=\"14.4\" fill=\"#009af9\" fill-rule=\"evenodd\" fill-opacity=\"1\" stroke=\"#000000\" stroke-opacity=\"1\" stroke-width=\"3.2\"/>\n",
       "<circle clip-path=\"url(#clip642)\" cx=\"1695.3\" cy=\"782.15\" r=\"14.4\" fill=\"#009af9\" fill-rule=\"evenodd\" fill-opacity=\"1\" stroke=\"#000000\" stroke-opacity=\"1\" stroke-width=\"3.2\"/>\n",
       "<circle clip-path=\"url(#clip642)\" cx=\"1605.88\" cy=\"975.6\" r=\"14.4\" fill=\"#009af9\" fill-rule=\"evenodd\" fill-opacity=\"1\" stroke=\"#000000\" stroke-opacity=\"1\" stroke-width=\"3.2\"/>\n",
       "<circle clip-path=\"url(#clip642)\" cx=\"1516.46\" cy=\"987.055\" r=\"14.4\" fill=\"#009af9\" fill-rule=\"evenodd\" fill-opacity=\"1\" stroke=\"#000000\" stroke-opacity=\"1\" stroke-width=\"3.2\"/>\n",
       "<circle clip-path=\"url(#clip642)\" cx=\"1248.2\" cy=\"653.115\" r=\"14.4\" fill=\"#009af9\" fill-rule=\"evenodd\" fill-opacity=\"1\" stroke=\"#000000\" stroke-opacity=\"1\" stroke-width=\"3.2\"/>\n",
       "<circle clip-path=\"url(#clip642)\" cx=\"1158.78\" cy=\"576.162\" r=\"14.4\" fill=\"#009af9\" fill-rule=\"evenodd\" fill-opacity=\"1\" stroke=\"#000000\" stroke-opacity=\"1\" stroke-width=\"3.2\"/>\n",
       "<circle clip-path=\"url(#clip642)\" cx=\"1069.36\" cy=\"466.207\" r=\"14.4\" fill=\"#009af9\" fill-rule=\"evenodd\" fill-opacity=\"1\" stroke=\"#000000\" stroke-opacity=\"1\" stroke-width=\"3.2\"/>\n",
       "<circle clip-path=\"url(#clip642)\" cx=\"979.937\" cy=\"327.862\" r=\"14.4\" fill=\"#009af9\" fill-rule=\"evenodd\" fill-opacity=\"1\" stroke=\"#000000\" stroke-opacity=\"1\" stroke-width=\"3.2\"/>\n",
       "<circle clip-path=\"url(#clip642)\" cx=\"801.097\" cy=\"115.299\" r=\"14.4\" fill=\"#009af9\" fill-rule=\"evenodd\" fill-opacity=\"1\" stroke=\"#000000\" stroke-opacity=\"1\" stroke-width=\"3.2\"/>\n",
       "<circle clip-path=\"url(#clip642)\" cx=\"711.677\" cy=\"192.829\" r=\"14.4\" fill=\"#009af9\" fill-rule=\"evenodd\" fill-opacity=\"1\" stroke=\"#000000\" stroke-opacity=\"1\" stroke-width=\"3.2\"/>\n",
       "<circle clip-path=\"url(#clip642)\" cx=\"1963.56\" cy=\"170.601\" r=\"14.4\" fill=\"#e26f46\" fill-rule=\"evenodd\" fill-opacity=\"1\" stroke=\"#000000\" stroke-opacity=\"1\" stroke-width=\"3.2\"/>\n",
       "<circle clip-path=\"url(#clip642)\" cx=\"1874.14\" cy=\"374.867\" r=\"14.4\" fill=\"#e26f46\" fill-rule=\"evenodd\" fill-opacity=\"1\" stroke=\"#000000\" stroke-opacity=\"1\" stroke-width=\"3.2\"/>\n",
       "<circle clip-path=\"url(#clip642)\" cx=\"1784.72\" cy=\"499.865\" r=\"14.4\" fill=\"#e26f46\" fill-rule=\"evenodd\" fill-opacity=\"1\" stroke=\"#000000\" stroke-opacity=\"1\" stroke-width=\"3.2\"/>\n",
       "<circle clip-path=\"url(#clip642)\" cx=\"1605.88\" cy=\"275.507\" r=\"14.4\" fill=\"#e26f46\" fill-rule=\"evenodd\" fill-opacity=\"1\" stroke=\"#000000\" stroke-opacity=\"1\" stroke-width=\"3.2\"/>\n",
       "<circle clip-path=\"url(#clip642)\" cx=\"1963.56\" cy=\"170.6\" r=\"14.4\" fill=\"#3da44d\" fill-rule=\"evenodd\" fill-opacity=\"1\" stroke=\"#000000\" stroke-opacity=\"1\" stroke-width=\"3.2\"/>\n",
       "<circle clip-path=\"url(#clip642)\" cx=\"1874.14\" cy=\"374.477\" r=\"14.4\" fill=\"#3da44d\" fill-rule=\"evenodd\" fill-opacity=\"1\" stroke=\"#000000\" stroke-opacity=\"1\" stroke-width=\"3.2\"/>\n",
       "<circle clip-path=\"url(#clip642)\" cx=\"1784.72\" cy=\"578.323\" r=\"14.4\" fill=\"#3da44d\" fill-rule=\"evenodd\" fill-opacity=\"1\" stroke=\"#000000\" stroke-opacity=\"1\" stroke-width=\"3.2\"/>\n",
       "<circle clip-path=\"url(#clip642)\" cx=\"1695.3\" cy=\"782.15\" r=\"14.4\" fill=\"#3da44d\" fill-rule=\"evenodd\" fill-opacity=\"1\" stroke=\"#000000\" stroke-opacity=\"1\" stroke-width=\"3.2\"/>\n",
       "<circle clip-path=\"url(#clip642)\" cx=\"1605.88\" cy=\"975.6\" r=\"14.4\" fill=\"#3da44d\" fill-rule=\"evenodd\" fill-opacity=\"1\" stroke=\"#000000\" stroke-opacity=\"1\" stroke-width=\"3.2\"/>\n",
       "<circle clip-path=\"url(#clip642)\" cx=\"1516.46\" cy=\"987.055\" r=\"14.4\" fill=\"#3da44d\" fill-rule=\"evenodd\" fill-opacity=\"1\" stroke=\"#000000\" stroke-opacity=\"1\" stroke-width=\"3.2\"/>\n",
       "<circle clip-path=\"url(#clip642)\" cx=\"1248.2\" cy=\"653.115\" r=\"14.4\" fill=\"#3da44d\" fill-rule=\"evenodd\" fill-opacity=\"1\" stroke=\"#000000\" stroke-opacity=\"1\" stroke-width=\"3.2\"/>\n",
       "<circle clip-path=\"url(#clip642)\" cx=\"1158.78\" cy=\"576.162\" r=\"14.4\" fill=\"#3da44d\" fill-rule=\"evenodd\" fill-opacity=\"1\" stroke=\"#000000\" stroke-opacity=\"1\" stroke-width=\"3.2\"/>\n",
       "<circle clip-path=\"url(#clip642)\" cx=\"1069.36\" cy=\"466.207\" r=\"14.4\" fill=\"#3da44d\" fill-rule=\"evenodd\" fill-opacity=\"1\" stroke=\"#000000\" stroke-opacity=\"1\" stroke-width=\"3.2\"/>\n",
       "<circle clip-path=\"url(#clip642)\" cx=\"979.937\" cy=\"327.862\" r=\"14.4\" fill=\"#3da44d\" fill-rule=\"evenodd\" fill-opacity=\"1\" stroke=\"#000000\" stroke-opacity=\"1\" stroke-width=\"3.2\"/>\n",
       "<circle clip-path=\"url(#clip642)\" cx=\"801.097\" cy=\"115.299\" r=\"14.4\" fill=\"#3da44d\" fill-rule=\"evenodd\" fill-opacity=\"1\" stroke=\"#000000\" stroke-opacity=\"1\" stroke-width=\"3.2\"/>\n",
       "<circle clip-path=\"url(#clip642)\" cx=\"711.677\" cy=\"192.829\" r=\"14.4\" fill=\"#3da44d\" fill-rule=\"evenodd\" fill-opacity=\"1\" stroke=\"#000000\" stroke-opacity=\"1\" stroke-width=\"3.2\"/>\n",
       "<path clip-path=\"url(#clip640)\" d=\"M2085.83 302.168 L2352.76 302.168 L2352.76 94.8081 L2085.83 94.8081  Z\" fill=\"#ffffff\" fill-rule=\"evenodd\" fill-opacity=\"1\"/>\n",
       "<polyline clip-path=\"url(#clip640)\" style=\"stroke:#000000; stroke-linecap:round; stroke-linejoin:round; stroke-width:4; stroke-opacity:1; fill:none\" points=\"2085.83,302.168 2352.76,302.168 2352.76,94.8081 2085.83,94.8081 2085.83,302.168 \"/>\n",
       "<circle clip-path=\"url(#clip640)\" cx=\"2180.91\" cy=\"146.648\" r=\"20.48\" fill=\"#009af9\" fill-rule=\"evenodd\" fill-opacity=\"1\" stroke=\"#000000\" stroke-opacity=\"1\" stroke-width=\"4.55111\"/>\n",
       "<path clip-path=\"url(#clip640)\" d=\"M2289.82 166.336 Q2288.02 170.965 2286.3 172.377 Q2284.59 173.789 2281.72 173.789 L2278.32 173.789 L2278.32 170.224 L2280.82 170.224 Q2282.58 170.224 2283.55 169.391 Q2284.52 168.558 2285.7 165.456 L2286.46 163.511 L2275.98 138.002 L2280.49 138.002 L2288.59 158.28 L2296.7 138.002 L2301.21 138.002 L2289.82 166.336 Z\" fill=\"#000000\" fill-rule=\"nonzero\" fill-opacity=\"1\" /><path clip-path=\"url(#clip640)\" d=\"M2308.5 159.993 L2316.14 159.993 L2316.14 133.627 L2307.83 135.294 L2307.83 131.035 L2316.09 129.368 L2320.77 129.368 L2320.77 159.993 L2328.41 159.993 L2328.41 163.928 L2308.5 163.928 L2308.5 159.993 Z\" fill=\"#000000\" fill-rule=\"nonzero\" fill-opacity=\"1\" /><circle clip-path=\"url(#clip640)\" cx=\"2180.91\" cy=\"198.488\" r=\"20.48\" fill=\"#e26f46\" fill-rule=\"evenodd\" fill-opacity=\"1\" stroke=\"#000000\" stroke-opacity=\"1\" stroke-width=\"4.55111\"/>\n",
       "<path clip-path=\"url(#clip640)\" d=\"M2289.82 218.176 Q2288.02 222.805 2286.3 224.217 Q2284.59 225.629 2281.72 225.629 L2278.32 225.629 L2278.32 222.064 L2280.82 222.064 Q2282.58 222.064 2283.55 221.231 Q2284.52 220.398 2285.7 217.296 L2286.46 215.351 L2275.98 189.842 L2280.49 189.842 L2288.59 210.12 L2296.7 189.842 L2301.21 189.842 L2289.82 218.176 Z\" fill=\"#000000\" fill-rule=\"nonzero\" fill-opacity=\"1\" /><path clip-path=\"url(#clip640)\" d=\"M2311.72 211.833 L2328.04 211.833 L2328.04 215.768 L2306.09 215.768 L2306.09 211.833 Q2308.76 209.078 2313.34 204.449 Q2317.95 199.796 2319.13 198.453 Q2321.37 195.93 2322.25 194.194 Q2323.15 192.435 2323.15 190.745 Q2323.15 187.99 2321.21 186.254 Q2319.29 184.518 2316.19 184.518 Q2313.99 184.518 2311.53 185.282 Q2309.1 186.046 2306.33 187.597 L2306.33 182.875 Q2309.15 181.741 2311.6 181.162 Q2314.06 180.583 2316.09 180.583 Q2321.46 180.583 2324.66 183.268 Q2327.85 185.953 2327.85 190.444 Q2327.85 192.574 2327.04 194.495 Q2326.26 196.393 2324.15 198.986 Q2323.57 199.657 2320.47 202.875 Q2317.37 206.069 2311.72 211.833 Z\" fill=\"#000000\" fill-rule=\"nonzero\" fill-opacity=\"1\" /><circle clip-path=\"url(#clip640)\" cx=\"2180.91\" cy=\"250.328\" r=\"20.48\" fill=\"#3da44d\" fill-rule=\"evenodd\" fill-opacity=\"1\" stroke=\"#000000\" stroke-opacity=\"1\" stroke-width=\"4.55111\"/>\n",
       "<path clip-path=\"url(#clip640)\" d=\"M2289.82 270.016 Q2288.02 274.645 2286.3 276.057 Q2284.59 277.469 2281.72 277.469 L2278.32 277.469 L2278.32 273.904 L2280.82 273.904 Q2282.58 273.904 2283.55 273.071 Q2284.52 272.238 2285.7 269.136 L2286.46 267.191 L2275.98 241.682 L2280.49 241.682 L2288.59 261.96 L2296.7 241.682 L2301.21 241.682 L2289.82 270.016 Z\" fill=\"#000000\" fill-rule=\"nonzero\" fill-opacity=\"1\" /><path clip-path=\"url(#clip640)\" d=\"M2321.86 248.974 Q2325.21 249.692 2327.09 251.96 Q2328.99 254.229 2328.99 257.562 Q2328.99 262.678 2325.47 265.478 Q2321.95 268.279 2315.47 268.279 Q2313.29 268.279 2310.98 267.84 Q2308.69 267.423 2306.23 266.566 L2306.23 262.053 Q2308.18 263.187 2310.49 263.766 Q2312.81 264.344 2315.33 264.344 Q2319.73 264.344 2322.02 262.608 Q2324.33 260.872 2324.33 257.562 Q2324.33 254.506 2322.18 252.793 Q2320.05 251.057 2316.23 251.057 L2312.21 251.057 L2312.21 247.215 L2316.42 247.215 Q2319.87 247.215 2321.7 245.849 Q2323.52 244.46 2323.52 241.868 Q2323.52 239.205 2321.63 237.793 Q2319.75 236.358 2316.23 236.358 Q2314.31 236.358 2312.11 236.775 Q2309.91 237.192 2307.27 238.071 L2307.27 233.905 Q2309.94 233.164 2312.25 232.793 Q2314.59 232.423 2316.65 232.423 Q2321.97 232.423 2325.08 234.854 Q2328.18 237.261 2328.18 241.381 Q2328.18 244.252 2326.53 246.242 Q2324.89 248.21 2321.86 248.974 Z\" fill=\"#000000\" fill-rule=\"nonzero\" fill-opacity=\"1\" /></svg>\n"
      ]
     },
     "execution_count": 13,
     "metadata": {},
     "output_type": "execute_result"
    },
    {
     "name": "stderr",
     "output_type": "stream",
     "text": [
      "\u001b[33m\u001b[1m┌ \u001b[22m\u001b[39m\u001b[33m\u001b[1mWarning: \u001b[22m\u001b[39mInvalid negative or zero value -1.8050293704163778e-8 found at series index 7 for log10 based yscale\n",
      "\u001b[33m\u001b[1m└ \u001b[22m\u001b[39m\u001b[90m@ Plots ~/.julia/packages/Plots/tDHxD/src/utils.jl:106\u001b[39m\n"
     ]
    }
   ],
   "source": [
    "scatter(h,g64.(h), legend=:outertopright, lw=3,\n",
    "xaxis=:log,\n",
    "yaxis=:log,\n",
    "ylims = (10e-15, 0)\n",
    ")\n",
    "scatter!(h,g32.(h))\n",
    "scatter!(h,gBF.(h), lw=1)"
   ]
  },
  {
   "cell_type": "markdown",
   "metadata": {},
   "source": [
    "## Problema 2\n",
    "\n",
    "Para funciones $f(x)$ que son suficientemente diferenciables en $x=c$\n",
    "\n",
    "1. Muestre que se  puede aproximar $f'(c)$ con la *fórmula centrada de 5 puntos*\n",
    "$$\n",
    "D_5f(c) := \\,\\frac{1}{12 h} \\left(f(c-2 h)-8 f(c-h)+8 f(c+h)-f(c+2 h)\n",
    "\\right)\n",
    "$$\n",
    "\n",
    "\n",
    "2. Muestre que la aproximación es exacta para polinomios de grado $\\le 4$.\n",
    "*Ayuda:* calcule explícitamente el término expresado como $O(h^4)$ en la ecuación siguiente, usando una expansión en serie de Taylor alrededor de $x=c$ de todas las evaluaciones de la función que aparecen en la fórmula para $D_5f(c)$.\n",
    "\n",
    "$$\n",
    "f'(c)\\,=\\,\\frac{1}{12 h} \\left(f(c-2 h)-8 f(c-h)+8 f(c+h)-f(c+2 h)\n",
    "\\right)\\,+\\,O(h^4)\n",
    "$$"
   ]
  },
  {
   "cell_type": "code",
   "execution_count": 14,
   "metadata": {},
   "outputs": [
    {
     "data": {
      "text/plain": [
       "dif_5_medio (generic function with 1 method)"
      ]
     },
     "execution_count": 14,
     "metadata": {},
     "output_type": "execute_result"
    }
   ],
   "source": [
    "# Defino las funciones para calcular las derivadas:\n",
    "function dif_5_medio(f::Function,\n",
    "    h::Float64,\n",
    "    x::Float64\n",
    "    )\n",
    "    df = (f(x-2h)-8f(x-h)+8f(x+h)-f(x+2h))/12h\n",
    "    return df\n",
    "end"
   ]
  },
  {
   "cell_type": "code",
   "execution_count": null,
   "metadata": {},
   "outputs": [],
   "source": []
  },
  {
   "cell_type": "markdown",
   "metadata": {},
   "source": [
    "## Problema 3\n",
    "\n",
    "1. Implemente el cálculo aproximado de las derivadas de una función arbitraria utilizando las fórmulas *i) hacia adelante de 2 puntos*, *ii) centrada de 3 puntos* y *iii) centrada de 5 puntos*.\n",
    "\n",
    "2. Aplíquelas para obtener los valores aproximados de las derivadas de $f(x)=\\cos x$ y $g(x)=e^x$.\n",
    "\n",
    "3. Haga un gráfico *log-log* del error relativo $E$ vs $h$ para $h\\in [\\epsilon_m(x),0.1]$ y $x=0.1, 1, 100$. Aquí $\\epsilon_m(x)$ es la precisión de la máquina al valor $x$.\n",
    "\n",
    "4. Verifique si el número de cifras decimales que obtiene coincide con las estimaciones presentadas en el téorico.\n",
    "\n",
    "5. Identifique las regiones donde domina el error del algoritmo y el error de redondeo, respectivamente. Las pendientes que se observan, corresponden a las predichas en el teórico?"
   ]
  },
  {
   "cell_type": "code",
   "execution_count": 15,
   "metadata": {},
   "outputs": [
    {
     "data": {
      "text/plain": [
       "dif_2_adelante (generic function with 1 method)"
      ]
     },
     "execution_count": 15,
     "metadata": {},
     "output_type": "execute_result"
    }
   ],
   "source": [
    "function dif_2_adelante(f::Function,\n",
    "    h::Float64,\n",
    "    x::Float64\n",
    "    )\n",
    "    df = (f(x+h)-f(x))/h\n",
    "    return df\n",
    "end"
   ]
  },
  {
   "cell_type": "code",
   "execution_count": null,
   "metadata": {},
   "outputs": [],
   "source": [
    "f(x) = cos(x)\n",
    "df(x) = -sin(x)\n",
    "g(x) = exp(x)\n",
    "# Valores de f'(x) por los metodos\n",
    "println(\"Metodos: \",dif_5_medio(f,0.1,0.1),\"   \",dif_5_medio(f,0.1,1.0),\"    \",dif_5_medio(f,0.1,100.0))\n",
    "# valores de f'(x) teoricos calculados\n",
    "println(\"Teorico: \",df(0.1),\"   \",df(1),\"   \",df(100))\n",
    "# Valores de g'(x) por los metodos\n",
    "println(\"Metodos: \",dif_5_medio(g,0.1,0.1),\"    \",dif_5_medio(g,0.1,1.0),\"    \",dif_5_medio(g,0.1,100.0))\n",
    "# valores de f'(x) teoricos calculados\n",
    "println(\"Teorico: \",g(0.1),\"   \",g(1),\"   \",g(100))"
   ]
  },
  {
   "cell_type": "code",
   "execution_count": null,
   "metadata": {},
   "outputs": [],
   "source": []
  },
  {
   "cell_type": "markdown",
   "metadata": {},
   "source": [
    "## Problema 4\n",
    "\n",
    "En el archivo `pos.dat` que se encuentra en el repositorio se dispone de un conjunto de datos experimentales de la posición de un móvil que se desplaza en línea recta. El mismo tiene dos columnas, siendo la primera el tiempo de la medición, $t_i$ y la segunda la posición, $x(t_i)$.\n",
    "\n",
    "1. Escriba un programa que lea los datos del archivo y calcule la velocidad del móvil para los mismos tiempos, $t_i$. Utilice la fórmula de 3 puntos. Preste especial atención a los puntos de los bordes del intervalo.\n",
    "2. Repita el punto 1. utilizando las fórmulas de 5 puntos."
   ]
  },
  {
   "cell_type": "markdown",
   "metadata": {},
   "source": [
    "**Ayuda:** Para bajar el archivo `pos.dat` del repositorio de github desde julia realice:"
   ]
  },
  {
   "cell_type": "code",
   "execution_count": 16,
   "metadata": {},
   "outputs": [
    {
     "name": "stderr",
     "output_type": "stream",
     "text": [
      "\u001b[91m\u001b[1m┌ \u001b[22m\u001b[39m\u001b[91m\u001b[1mError: \u001b[22m\u001b[39mcurl_easy_setopt: 48\n",
      "\u001b[91m\u001b[1m└ \u001b[22m\u001b[39m\u001b[90m@ Downloads.Curl /builddir/build/BUILD/julia-1.8.0/build/usr/share/julia/stdlib/v1.8/Downloads/src/Curl/utils.jl:29\u001b[39m\n",
      "\u001b[91m\u001b[1m┌ \u001b[22m\u001b[39m\u001b[91m\u001b[1mError: \u001b[22m\u001b[39mcurl_easy_setopt: 48\n",
      "\u001b[91m\u001b[1m└ \u001b[22m\u001b[39m\u001b[90m@ Downloads.Curl /builddir/build/BUILD/julia-1.8.0/build/usr/share/julia/stdlib/v1.8/Downloads/src/Curl/utils.jl:29\u001b[39m\n",
      "\u001b[91m\u001b[1m┌ \u001b[22m\u001b[39m\u001b[91m\u001b[1mError: \u001b[22m\u001b[39mcurl_easy_setopt: 48\n",
      "\u001b[91m\u001b[1m└ \u001b[22m\u001b[39m\u001b[90m@ Downloads.Curl /builddir/build/BUILD/julia-1.8.0/build/usr/share/julia/stdlib/v1.8/Downloads/src/Curl/utils.jl:29\u001b[39m\n"
     ]
    },
    {
     "data": {
      "text/plain": [
       "\"/home/santiago/FAMAF/2do/Fork_metodos-numericos-2023/guias/pos.dat\""
      ]
     },
     "execution_count": 16,
     "metadata": {},
     "output_type": "execute_result"
    }
   ],
   "source": [
    "# Ejemplo de como bajar un archivo.\n",
    "separador = \"/\" # En Linux\n",
    "#separador = \"\\\" # En Windows\n",
    "download(\n",
    "    \"https://raw.githubusercontent.com/reula/Metodos_Numericos_2022/main/Guias/pos.dat\", # Bajamos el archivo pos.dat del repositorio en el que están las guías.\n",
    "    pwd() * separador * \"pos.dat\" # Guardamos lo bajado en un archivo llamado pos.dat en el directorio local.\n",
    ")"
   ]
  },
  {
   "cell_type": "markdown",
   "metadata": {},
   "source": [
    "1. **Notar que Windows usa `\"\\\"` en vez de `\"/\"`.**\n",
    "\n",
    "2. Cuando entre a github a ver los links a los archivos, seleccione primero el archivo, cuando se visualice selecione el botón **Raw**. Fíjese que el link debe comenzar con https://raw.githubusercontent.com"
   ]
  },
  {
   "cell_type": "markdown",
   "metadata": {},
   "source": [
    "**Ayuda:** Para cargar los datos en `pos.dat` a vectores de Julia utilice:"
   ]
  },
  {
   "cell_type": "code",
   "execution_count": 17,
   "metadata": {},
   "outputs": [],
   "source": [
    "t = Vector{Float64}()\n",
    "x = Vector{Float64}()\n",
    "open(\"pos.dat\",\"r\") do fh\n",
    "    for line in readlines(fh) \n",
    "        cols = split(line)\n",
    "        push!(t,parse(Float64,cols[1]))\n",
    "        push!(x,parse(Float64,cols[2]))\n",
    "    end\n",
    "end"
   ]
  },
  {
   "cell_type": "code",
   "execution_count": null,
   "metadata": {},
   "outputs": [],
   "source": []
  },
  {
   "cell_type": "markdown",
   "metadata": {},
   "source": [
    "# Ejercicios Complementarios"
   ]
  },
  {
   "cell_type": "markdown",
   "metadata": {},
   "source": [
    "## Problema C.1\n",
    "\n",
    "**Derivada segunda:** Deduzca la fórmula centrada equiespaciada de tres puntos para la derivada segunda $f''(x_0)$. Incluya una cota para el error absoluto."
   ]
  },
  {
   "cell_type": "code",
   "execution_count": null,
   "metadata": {},
   "outputs": [],
   "source": []
  },
  {
   "cell_type": "markdown",
   "metadata": {},
   "source": [
    "## Problema C.2\n",
    "\n",
    "**Interpolación y diferenciación:** Se conoce el valor de $f(x)$ en tres puntos $x_0,x_1,x_2$. Escriba el polinomio interpolante $P_2(x)$ en la forma de Lagrange. Asuma que aproximamos $f'(x_i)$ por $P_2'(x_i)$,\n",
    "\n",
    "1. Muestre que si tomamos $x_0=c-h,\\,x_1=c,\\,x_2=c+h$ obtenemos la expresión del algoritmo centrado de tres\n",
    "puntos para $f'(c)$. \n",
    "2. Muestre que, en general, esta proximación arroja el algoritmo de tres puntos. Reobtenga la fórmula dada en el teórico para $x_0=c-h_1,\\,x_1=c,\\,x_2=c+h_2$. Obtenga una expresión para las derivadas en extremos del intervalo $[a,b]$, $f'(a)$ con $x_0=a,\\,x_1=a+h,\\,x_2=a+2 h$ y $f'(b)$ con $x_0=b,\\,x_1=b-h,\\,x_2=b-2h$.\n",
    "3. Generalice a 5 puntos y re-obtenga el algoritmo centrado y equiespaciado en este caso."
   ]
  },
  {
   "cell_type": "code",
   "execution_count": null,
   "metadata": {},
   "outputs": [],
   "source": []
  }
 ],
 "metadata": {
  "@webio": {
   "lastCommId": null,
   "lastKernelId": null
  },
  "kernelspec": {
   "display_name": "Julia 1.8.0",
   "language": "julia",
   "name": "julia-1.8"
  },
  "language_info": {
   "file_extension": ".jl",
   "mimetype": "application/julia",
   "name": "julia",
   "version": "1.8.0"
  },
  "latex_envs": {
   "LaTeX_envs_menu_present": true,
   "autoclose": false,
   "autocomplete": true,
   "bibliofile": "biblio.bib",
   "cite_by": "apalike",
   "current_citInitial": 1,
   "eqLabelWithNumbers": true,
   "eqNumInitial": 1,
   "hotkeys": {
    "equation": "Ctrl-E",
    "itemize": "Ctrl-I"
   },
   "labels_anchors": false,
   "latex_user_defs": false,
   "report_style_numbering": false,
   "user_envs_cfg": false
  }
 },
 "nbformat": 4,
 "nbformat_minor": 4
}
