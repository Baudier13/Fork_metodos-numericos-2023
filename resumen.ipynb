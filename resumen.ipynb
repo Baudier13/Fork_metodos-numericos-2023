{
 "cells": [
  {
   "cell_type": "markdown",
   "id": "7e300658-ce5a-4708-b426-ef4892603411",
   "metadata": {},
   "source": [
    "# Metodos Numericos 2023\n",
    "---\n",
    "## Resumen "
   ]
  },
  {
   "cell_type": "code",
   "execution_count": 2,
   "id": "656ca8a2-6861-49f4-8c8e-d0203fedb0d1",
   "metadata": {},
   "outputs": [],
   "source": [
    "using LaTeXStrings"
   ]
  },
  {
   "cell_type": "markdown",
   "id": "b1165a10-a256-4077-bd5f-f3843a1ae1e6",
   "metadata": {},
   "source": [
    "## 1. Metodo de Bisección\n",
    "Sea $f(x)$ continua en el intervalo $[a,b]$, $f(a)$ y $f(b)$ tienen signo contrario, buscamos los puntos $f(x)=0$. "
   ]
  },
  {
   "cell_type": "markdown",
   "id": "738f49e9-76b4-45af-9ece-3b3bab3a27e9",
   "metadata": {},
   "source": [
    "1. Sea  $a_1 = a$ y $b_1 = b$, $p_1 = a_1 + (b_1-a_1)/2$\n",
    "2. Si $f(p_1)=0$ **entonces** la raiz $p$ esta dada por $p=p_1$ \n",
    "3. Si $f(p_1)≠0$ **entonces** $f(p_1)$ tiene el mismo signo que $f(a_1)$ o $f(b_1)$\n",
    "    1. Si $f(p_1)$ y $f(a_1)$ tienen el mismo signo **entonces** $p \\in (p_1,b_1)$ y hacemos: $a_2=p_1$ y $b_2=b_1$\n",
    "    2. Si $f(p_1)$ y $f(b_1)$ tienen el mismo signo **entonces** $p \\in (a_1,p_1)$ y hacemos: $a_2=a_1$ y $b_2=p_1$\n",
    "4. Repetimos el proceso para el intervalo $[a_2,b_2]$ y asi sucesivamente...\n",
    "\n",
    "**Condicion**: sea $p_n= a_n + (b_n-a_n)/2$ entonces: \n",
    "$a_{n+1}= a_n$  y $b_{n+1}= p_n$ SI $f(a_n)f(p_n) < 0$ \n",
    "\n",
    "**Metodo de detencion**\n",
    "1. Si uno de los  p_n coincide con la raiz\n",
    "2. Si la longitud de intervalo es menor que cierta tolerancia *tol*\n",
    "3. Si el numero de iteraciones excede cierto calor $N_{max}$\n",
    "\n",
    "Observar que:\n",
    "$|p_n-p| ≤ (b-a)/2^n < tol $ **entonces** $log_2((b-a)/2)<n$ con $n$ el numero de iteracciones "
   ]
  },
  {
   "cell_type": "code",
   "execution_count": null,
   "id": "9496c0d1-e58e-449c-b7bb-a533ff336a25",
   "metadata": {},
   "outputs": [],
   "source": [
    " "
   ]
  }
 ],
 "metadata": {
  "kernelspec": {
   "display_name": "Julia 1.8.0",
   "language": "julia",
   "name": "julia-1.8"
  },
  "language_info": {
   "file_extension": ".jl",
   "mimetype": "application/julia",
   "name": "julia",
   "version": "1.8.0"
  }
 },
 "nbformat": 4,
 "nbformat_minor": 5
}
